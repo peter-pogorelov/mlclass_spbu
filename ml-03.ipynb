{
 "cells": [
  {
   "cell_type": "code",
   "execution_count": 688,
   "metadata": {},
   "outputs": [],
   "source": [
    "import os\n",
    "import pandas as pd\n",
    "import numpy as np\n",
    "from collections import deque\n",
    "from io import StringIO\n",
    "from scipy.sparse import lil_matrix, csr_matrix\n",
    "from sklearn.cluster import AffinityPropagation\n",
    "\n",
    "from sklearn.datasets.samples_generator import make_blobs\n",
    "from sklearn.metrics import normalized_mutual_info_score\n",
    "\n",
    "import matplotlib.pyplot as plt\n",
    "\n",
    "%matplotlib inline"
   ]
  },
  {
   "cell_type": "markdown",
   "metadata": {},
   "source": [
    "# Affinity Propagation на матрицах, для оценки адекватности алгоритма на графах"
   ]
  },
  {
   "cell_type": "code",
   "execution_count": 490,
   "metadata": {},
   "outputs": [],
   "source": [
    "class CustomAffinityPropagation(object):\n",
    "    def __init__(self, similarity_measure = None):\n",
    "        if similarity_measure is None:\n",
    "            self.similarity_measure = lambda x, y: -np.power(x - y, 2).sum()\n",
    "        else: \n",
    "            self.similarity_measure = similarity_measure\n",
    "        \n",
    "        self.S = None\n",
    "        self.A = None\n",
    "        self.R = None\n",
    "    \n",
    "    def load_similarity_matrix(self, S_new):\n",
    "        self.S = S_new\n",
    "        if hasattr(self.S, 'todense'):\n",
    "            self.A = csr_matrix((S_new.shape[0], S_new.shape[0]))\n",
    "            self.R = csr_matrix((S_new.shape[0], S_new.shape[0]))\n",
    "        else:\n",
    "            self.A = np.zeros_like(S_new)\n",
    "            self.R = np.zeros_like(S_new)\n",
    "        \n",
    "    def calc_similarity_matrix(self, X):\n",
    "        self.S = np.zeros((X.shape[0], X.shape[0]))\n",
    "        self.A = np.zeros_like(self.S)\n",
    "        self.R = np.zeros_like(self.S)\n",
    "        for i in range(X.shape[0]):\n",
    "            for j in range(X.shape[0]):\n",
    "                self.S[i, j] = self.similarity_measure(X[i,:], X[j,:])\n",
    "                \n",
    "        self.S[np.diag_indices_from(self.S)] = np.median(self.S)#np.random.normal(loc=-5, scale=2) / 1e-8\n",
    "        \n",
    "        return self.S\n",
    "    \n",
    "    def update_responsibility(self, damping=.9):\n",
    "        # For every column k, except for the column with the maximum value the max is the same.\n",
    "        # So we can subtract the maximum for every row, \n",
    "        # and only need to do something different for k == argmax\n",
    "\n",
    "        v = self.S + self.A\n",
    "        rows = np.arange(self.S.shape[0])\n",
    "        # We only compare the current point to all other points, \n",
    "        # so the diagonal can be filled with -infinity\n",
    "        np.fill_diagonal(v, -np.inf)\n",
    "\n",
    "        # max values\n",
    "        idx_max = np.argmax(v, axis=1)\n",
    "        first_max = v[rows, idx_max]\n",
    "\n",
    "        # Second max values. For every column where k is the max value.\n",
    "        v[rows, idx_max] = -np.inf\n",
    "        second_max = v[rows, np.argmax(v, axis=1)]\n",
    "\n",
    "        # Broadcast the maximum value per row over all the columns per row.\n",
    "        max_matrix = np.zeros_like(self.R) + first_max[:, None]\n",
    "        max_matrix[rows, idx_max] = second_max\n",
    "\n",
    "        new_val = self.S - max_matrix\n",
    "\n",
    "        self.R = self.R * damping + (1 - damping) * new_val\n",
    "\n",
    "        \n",
    "    def update_availability(self, damping=0.9):\n",
    "        k_k_idx = np.arange(self.S.shape[0])\n",
    "        # set a(i, k)\n",
    "        a = np.array(self.R)\n",
    "        a[a < 0] = 0\n",
    "        np.fill_diagonal(a, 0)\n",
    "        a = a.sum(axis=0) # columnwise sum\n",
    "        a = a + self.R[k_k_idx, k_k_idx]\n",
    "\n",
    "        # broadcasting of columns 'r(k, k) + sum(max(0, r(i', k))) to rows.\n",
    "        a = np.ones(self.A.shape) * a\n",
    "\n",
    "        # For every column k, subtract the positive value of k. \n",
    "        # This value is included in the sum and shouldn't be\n",
    "        a -= np.clip(self.R, 0, np.inf)\n",
    "        a[a > 0] = 0\n",
    "\n",
    "        # set(a(k, k))\n",
    "        w = np.array(self.R)\n",
    "        np.fill_diagonal(w, 0)\n",
    "\n",
    "        w[w < 0] = 0\n",
    "\n",
    "        a[k_k_idx, k_k_idx] = w.sum(axis=0) # column wise sum\n",
    "        self.A = self.A * damping + (1 - damping) * a\n",
    "    \n",
    "    \n",
    "    def fit_transform(self, X=None, y=None):\n",
    "        if X is not None:\n",
    "            self.calc_similarity_matrix(X)\n",
    "            \n",
    "        for i in range(1000):\n",
    "            self.update_responsibility(.9)\n",
    "            self.update_availability(.9)\n",
    "        \n",
    "        clusters = np.argmax(self.A + self.R, axis=1)\n",
    "        return clusters\n",
    "            "
   ]
  },
  {
   "cell_type": "code",
   "execution_count": 491,
   "metadata": {},
   "outputs": [],
   "source": [
    "X, y = make_blobs(n_samples=100, centers=5, n_features=2, random_state=42)"
   ]
  },
  {
   "cell_type": "code",
   "execution_count": 492,
   "metadata": {},
   "outputs": [
    {
     "data": {
      "text/plain": [
       "<matplotlib.collections.PathCollection at 0x1eb08103e10>"
      ]
     },
     "execution_count": 492,
     "metadata": {},
     "output_type": "execute_result"
    },
    {
     "data": {
      "image/png": "[encoded data removed]",
      "text/plain": [
       "<Figure size 432x288 with 1 Axes>"
      ]
     },
     "metadata": {},
     "output_type": "display_data"
    }
   ],
   "source": [
    "plt.scatter(x = X[:, 0], y = X[:, 1])"
   ]
  },
  {
   "cell_type": "code",
   "execution_count": 493,
   "metadata": {},
   "outputs": [
    {
     "data": {
      "text/plain": [
       "array([ 2, 11, 41, 48, 71, 78], dtype=int64)"
      ]
     },
     "execution_count": 493,
     "metadata": {},
     "output_type": "execute_result"
    }
   ],
   "source": [
    "afine = CustomAffinityPropagation()\n",
    "clusters = afine.fit_transform(X)\n",
    "np.unique(clusters)#.shape"
   ]
  },
  {
   "cell_type": "code",
   "execution_count": 494,
   "metadata": {},
   "outputs": [],
   "source": [
    "unique_clust = np.unique(clusters).tolist()\n",
    "mapping = dict(zip(unique_clust, range(len(unique_clust))))\n",
    "mapped_clusters = np.array(list(map(lambda x: mapping[x], clusters.tolist())))"
   ]
  },
  {
   "cell_type": "code",
   "execution_count": 495,
   "metadata": {},
   "outputs": [
    {
     "data": {
      "text/plain": [
       "<matplotlib.collections.PathCollection at 0x1eb08163c50>"
      ]
     },
     "execution_count": 495,
     "metadata": {},
     "output_type": "execute_result"
    },
    {
     "data": {
      "image/png": "[encoded data removed]",
      "text/plain": [
       "<Figure size 432x288 with 1 Axes>"
      ]
     },
     "metadata": {},
     "output_type": "display_data"
    }
   ],
   "source": [
    "plt.scatter(x = X[:, 0], y = X[:, 1], c=mapped_clusters)#, cmap='tab20')"
   ]
  },
  {
   "cell_type": "markdown",
   "metadata": {},
   "source": [
    "# Синтетика для теста алгоритма на графах"
   ]
  },
  {
   "cell_type": "code",
   "execution_count": 505,
   "metadata": {},
   "outputs": [],
   "source": [
    "X, y = make_blobs(n_samples=100, centers=2, n_features=2, random_state=42)\n",
    "synth = CustomAffinityPropagation().calc_similarity_matrix(X)\n",
    "np.fill_diagonal(synth, 0)\n",
    "\n",
    "outp_data = ''\n",
    "for i in range(synth.shape[0]):\n",
    "    for j in range(synth.shape[1]):\n",
    "        if synth[i, j] != 0:\n",
    "            outp_data += f\"{i}\\t{j}\\t{synth[i, j]}\\n\"\n",
    "            \n",
    "with open(\"./Gowalla/synth.txt\", \"w\") as f:\n",
    "    f.write(outp_data)"
   ]
  },
  {
   "cell_type": "code",
   "execution_count": 548,
   "metadata": {},
   "outputs": [],
   "source": [
    "rawdata = None\n",
    "with open('./Gowalla/exemplars.txt', 'r') as f:\n",
    "    rawdata = f.read()\n",
    "    \n",
    "clusters = pd.read_csv(StringIO(rawdata), sep='\\t', header=None)"
   ]
  },
  {
   "cell_type": "code",
   "execution_count": 549,
   "metadata": {},
   "outputs": [],
   "source": [
    "unique_clust = np.unique(clusters[1]).tolist()\n",
    "mapping = dict(zip(unique_clust, range(len(unique_clust))))\n",
    "mapped_clusters = np.array(list(map(lambda x: mapping[x], clusters[1].tolist())))"
   ]
  },
  {
   "cell_type": "code",
   "execution_count": 550,
   "metadata": {},
   "outputs": [
    {
     "data": {
      "text/plain": [
       "<matplotlib.collections.PathCollection at 0x1eb09f92c88>"
      ]
     },
     "execution_count": 550,
     "metadata": {},
     "output_type": "execute_result"
    },
    {
     "data": {
      "image/png": "[encoded data removed]",
      "text/plain": [
       "<Figure size 432x288 with 1 Axes>"
      ]
     },
     "metadata": {},
     "output_type": "display_data"
    }
   ],
   "source": [
    "plt.scatter(x = X[:, 0], y = X[:, 1], c=mapped_clusters)#, cmap='tab20')"
   ]
  },
  {
   "cell_type": "markdown",
   "metadata": {},
   "source": [
    "# Gowalla"
   ]
  },
  {
   "cell_type": "markdown",
   "metadata": {},
   "source": [
    "# Загружаем результат кластеризации (Gowalla)"
   ]
  },
  {
   "cell_type": "code",
   "execution_count": 752,
   "metadata": {},
   "outputs": [],
   "source": [
    "rawdata = None\n",
    "with open('./Gowalla/exemplars.txt', 'r') as f:\n",
    "    rawdata = f.read()\n",
    "    \n",
    "clusters = pd.read_csv(StringIO(rawdata), sep='\\t', header=None)#.rename('node', 'exemplar')\n",
    "clusters.columns = ['node', 'exemplar']"
   ]
  },
  {
   "cell_type": "code",
   "execution_count": 753,
   "metadata": {},
   "outputs": [],
   "source": [
    "rawdata = None\n",
    "with open('./Gowalla/nodes_outputs.txt', 'r') as f:\n",
    "    rawdata = f.read()\n",
    "    \n",
    "nodes_outputs = pd.read_csv(StringIO(rawdata), sep='\\t', header=None)#.rename('node', 'exemplar')\n",
    "nodes_outputs.columns = ['node', 'outputs']"
   ]
  },
  {
   "cell_type": "code",
   "execution_count": 754,
   "metadata": {},
   "outputs": [],
   "source": [
    "nodes_outputs['cluster'] = clusters.exemplar"
   ]
  },
  {
   "cell_type": "code",
   "execution_count": 755,
   "metadata": {},
   "outputs": [],
   "source": [
    "exemplars = clusters.exemplar.tolist()"
   ]
  },
  {
   "cell_type": "code",
   "execution_count": 756,
   "metadata": {},
   "outputs": [
    {
     "name": "stdout",
     "output_type": "stream",
     "text": [
      "transitive for 39232\n",
      "transitive for 41455\n",
      "transitive for 60073\n",
      "transitive for 86164\n",
      "transitive for 96333\n",
      "transitive for 120112\n",
      "transitive for 133110\n",
      "transitive for 133112\n",
      "transitive for 141526\n",
      "transitive for 161801\n",
      "transitive for 190264\n",
      "transitive for 190265\n",
      "transitive for 193834\n",
      "transitive for 194562\n"
     ]
    }
   ],
   "source": [
    "# транзитивное замыкание\n",
    "\n",
    "for ix_node, record in enumerate(exemplars):\n",
    "    while record != exemplars[record]:\n",
    "        record = exemplars[record]\n",
    "    \n",
    "    if record != exemplars[ix_node]:\n",
    "        print(f'transitive for {ix_node}')\n",
    "        exemplars[ix_node] = record"
   ]
  },
  {
   "cell_type": "code",
   "execution_count": 757,
   "metadata": {},
   "outputs": [],
   "source": [
    "# транзитивное замыкание не понадобилось"
   ]
  },
  {
   "cell_type": "code",
   "execution_count": 758,
   "metadata": {},
   "outputs": [],
   "source": [
    "clusters_sizes = clusters.exemplar.value_counts()"
   ]
  },
  {
   "cell_type": "code",
   "execution_count": null,
   "metadata": {},
   "outputs": [],
   "source": []
  },
  {
   "cell_type": "code",
   "execution_count": 772,
   "metadata": {},
   "outputs": [
    {
     "name": "stdout",
     "output_type": "stream",
     "text": [
      "количество малых кластеров 53676 покрытие:  0.3269579990945669\n"
     ]
    }
   ],
   "source": [
    "print('количество малых кластеров', np.sum(clusters_sizes <= 2), f'покрытие: ', clusters_sizes[clusters_sizes <= 2].sum() / clusters_sizes.sum())"
   ]
  },
  {
   "cell_type": "code",
   "execution_count": 771,
   "metadata": {},
   "outputs": [
    {
     "name": "stdout",
     "output_type": "stream",
     "text": [
      "количество крупных кластеров 15537 покрытие:  0.6730420009054331\n"
     ]
    }
   ],
   "source": [
    "print('количество крупных кластеров', np.sum(clusters_sizes > 2), f'покрытие: ', clusters_sizes[clusters_sizes > 2].sum() / clusters_sizes.sum())"
   ]
  },
  {
   "cell_type": "code",
   "execution_count": 773,
   "metadata": {},
   "outputs": [
    {
     "data": {
      "text/plain": [
       "<matplotlib.axes._subplots.AxesSubplot at 0x1eb2b0b5d68>"
      ]
     },
     "execution_count": 773,
     "metadata": {},
     "output_type": "execute_result"
    },
    {
     "data": {
      "image/png": "[encoded data removed]",
      "text/plain": [
       "<Figure size 1080x360 with 1 Axes>"
      ]
     },
     "metadata": {},
     "output_type": "display_data"
    }
   ],
   "source": [
    "nodes_outputs[nodes_outputs.cluster.isin(clusters_sizes[clusters_sizes > 2].index)].outputs.sort_values(ascending=False).iloc[:1000].plot(kind='bar', figsize=(15, 5))"
   ]
  },
  {
   "cell_type": "code",
   "execution_count": 763,
   "metadata": {},
   "outputs": [
    {
     "name": "stdout",
     "output_type": "stream",
     "text": [
      "первые 500 кластеров по объему\n",
      "220       10186\n",
      "440        3585\n",
      "459        3148\n",
      "207         978\n",
      "1431        882\n",
      "3           751\n",
      "2196        724\n",
      "1430        647\n",
      "1791        557\n",
      "2215        539\n",
      "2089        471\n",
      "1857        442\n",
      "4370        441\n",
      "38454       338\n",
      "7480        275\n",
      "1653        248\n",
      "8037        232\n",
      "1927        215\n",
      "5568        214\n",
      "1605        208\n",
      "47875       201\n",
      "3673        180\n",
      "1           170\n",
      "5849        153\n",
      "68929       153\n",
      "8035        146\n",
      "1994        145\n",
      "1903        138\n",
      "41281       133\n",
      "6809        132\n",
      "          ...  \n",
      "100436        1\n",
      "143742        1\n",
      "139644        1\n",
      "137595        1\n",
      "125016        1\n",
      "153971        1\n",
      "178543        1\n",
      "176494        1\n",
      "80287         1\n",
      "53666         1\n",
      "59813         1\n",
      "33192         1\n",
      "155689        1\n",
      "158197        1\n",
      "152050        1\n",
      "178671        1\n",
      "172524        1\n",
      "153646        1\n",
      "192998        1\n",
      "188900        1\n",
      "165940        1\n",
      "188473        1\n",
      "67652         1\n",
      "65605         1\n",
      "90185         1\n",
      "45486         1\n",
      "84044         1\n",
      "39339         1\n",
      "35241         1\n",
      "118906        1\n",
      "Name: exemplar, Length: 69213, dtype: int64\n"
     ]
    }
   ],
   "source": [
    "print('первые 500 кластеров по объему')\n",
    "print(clusters.exemplar.value_counts())"
   ]
  },
  {
   "cell_type": "markdown",
   "metadata": {},
   "source": [
    "# Анализируем чекины"
   ]
  },
  {
   "cell_type": "code",
   "execution_count": 588,
   "metadata": {},
   "outputs": [],
   "source": [
    "rawdata = None\n",
    "with open('./Gowalla/Gowalla_totalCheckins.txt', 'r') as f:\n",
    "    rawdata = f.read()\n",
    "    \n",
    "checkins = pd.read_csv(StringIO(rawdata), sep='\\t', header=None)\n",
    "checkins.columns = ['user_from', 'time', 'latitude', 'longitude', 'user_to']\n",
    "checkins.drop(['time', 'latitude', 'longitude'], inplace=True, axis=1)"
   ]
  },
  {
   "cell_type": "code",
   "execution_count": 589,
   "metadata": {},
   "outputs": [],
   "source": [
    "def get_top_checkins(x):\n",
    "    top_5 = x.user_to.value_counts().iloc[:10].index.values\n",
    "    return pd.Series(top_5)\n",
    "\n",
    "top_checkins = checkins.groupby('user_from').apply(get_top_checkins).unstack()"
   ]
  },
  {
   "cell_type": "code",
   "execution_count": 604,
   "metadata": {},
   "outputs": [],
   "source": [
    "# в логах чекинов нет некоторых пользователей"
   ]
  },
  {
   "cell_type": "code",
   "execution_count": 667,
   "metadata": {},
   "outputs": [],
   "source": [
    "top_checkins_corrected = top_checkins"
   ]
  },
  {
   "cell_type": "code",
   "execution_count": 668,
   "metadata": {},
   "outputs": [
    {
     "data": {
      "text/plain": [
       "(107092, 196591)"
      ]
     },
     "execution_count": 668,
     "metadata": {},
     "output_type": "execute_result"
    }
   ],
   "source": [
    "top_checkins.shape[0], len(exemplars)"
   ]
  },
  {
   "cell_type": "code",
   "execution_count": 774,
   "metadata": {},
   "outputs": [],
   "source": [
    "top_checkins['cluster'] = clusters.exemplar"
   ]
  },
  {
   "cell_type": "code",
   "execution_count": 775,
   "metadata": {},
   "outputs": [],
   "source": [
    "def get_relevant_checkin_share(x, share = .1):\n",
    "    scores = []\n",
    "    for i in range(10):\n",
    "        def get_indices(n_samples):\n",
    "            full_range = list(range(n_samples))\n",
    "\n",
    "            random_boys = np.random.choice(full_range, size=int(n_samples * share), replace=False)\n",
    "            difference = np.setdiff1d(full_range, random_boys)\n",
    "\n",
    "            return random_boys, difference\n",
    "        \n",
    "        # скрываем некоторых пользователей\n",
    "        random_boys, difference = get_indices(x.shape[0])\n",
    "    \n",
    "        test_users = x.iloc[random_boys]\n",
    "        val_users = x.iloc[difference]\n",
    "        \n",
    "        # удаляем nan из выборки\n",
    "        val_users_values = val_users.values.flatten()\n",
    "        val_users_values = val_users_values[~np.isnan(val_users_values)]\n",
    "        val_users_values = val_users_values.astype(int)\n",
    "        test_users_values = test_users.values.flatten()\n",
    "        test_users_values = test_users_values[~np.isnan(test_users_values)]\n",
    "        test_users_values = test_users_values.astype(int)\n",
    "        \n",
    "        # считаем уникальные значения локация / количество пользователей на локацию \n",
    "        unique_users_val, counts_val = np.unique(val_users_values, return_counts=True)\n",
    "        unique_users_val = unique_users_val[:10]\n",
    "        unique_users_test, counts_test = np.unique(test_users_values, return_counts=True)\n",
    "        \n",
    "        # маска: попала ли локация из тестового множества в валидационное\n",
    "        mask = np.array([j in unique_users_test for j in unique_users_val])#np.zeros_like(unique_users_val)\n",
    "        \n",
    "        scores.append(mask.sum() / mask.shape[0])\n",
    "    \n",
    "    return np.mean(scores)\n",
    "\n",
    "ranking = top_checkins_corrected.groupby('cluster').apply(get_relevant_checkin_share)"
   ]
  },
  {
   "cell_type": "code",
   "execution_count": 776,
   "metadata": {},
   "outputs": [
    {
     "name": "stdout",
     "output_type": "stream",
     "text": [
      "кластеров с нулевым скором:  40724\n"
     ]
    }
   ],
   "source": [
    "print('кластеров с нулевым скором: ', (ranking == 0).sum())"
   ]
  },
  {
   "cell_type": "code",
   "execution_count": 777,
   "metadata": {},
   "outputs": [
    {
     "name": "stdout",
     "output_type": "stream",
     "text": [
      "кластеров с ненулевым скором:  911\n"
     ]
    }
   ],
   "source": [
    "print('кластеров с ненулевым скором: ', (ranking != 0).sum())"
   ]
  },
  {
   "cell_type": "code",
   "execution_count": 778,
   "metadata": {},
   "outputs": [
    {
     "name": "stdout",
     "output_type": "stream",
     "text": [
      "средний скор по кластерам:  0.0020994355710339855\n"
     ]
    }
   ],
   "source": [
    "print('средний скор по кластерам: ', ranking.mean())"
   ]
  },
  {
   "cell_type": "code",
   "execution_count": 779,
   "metadata": {},
   "outputs": [
    {
     "name": "stdout",
     "output_type": "stream",
     "text": [
      "cluster\n",
      "101862    0.52\n",
      "1431      0.35\n",
      "220       0.29\n",
      "5692      0.28\n",
      "38198     0.27\n",
      "55419     0.26\n",
      "64493     0.26\n",
      "142       0.26\n",
      "4370      0.26\n",
      "2274      0.26\n",
      "598       0.25\n",
      "4358      0.24\n",
      "45806     0.24\n",
      "106174    0.24\n",
      "167822    0.23\n",
      "54690     0.21\n",
      "99701     0.21\n",
      "142261    0.21\n",
      "95919     0.21\n",
      "68031     0.21\n",
      "40930     0.21\n",
      "47852     0.21\n",
      "11930     0.20\n",
      "440       0.20\n",
      "459       0.20\n",
      "41281     0.20\n",
      "106423    0.20\n",
      "187731    0.20\n",
      "10832     0.20\n",
      "41951     0.20\n",
      "          ... \n",
      "131551    0.00\n",
      "131601    0.00\n",
      "131546    0.00\n",
      "131544    0.00\n",
      "131540    0.00\n",
      "131539    0.00\n",
      "131534    0.00\n",
      "131528    0.00\n",
      "131527    0.00\n",
      "131584    0.00\n",
      "131604    0.00\n",
      "131729    0.00\n",
      "131675    0.00\n",
      "131713    0.00\n",
      "131708    0.00\n",
      "131701    0.00\n",
      "131700    0.00\n",
      "131689    0.00\n",
      "131684    0.00\n",
      "131676    0.00\n",
      "131673    0.00\n",
      "131608    0.00\n",
      "131660    0.00\n",
      "131646    0.00\n",
      "131643    0.00\n",
      "131630    0.00\n",
      "131629    0.00\n",
      "131621    0.00\n",
      "131611    0.00\n",
      "109665    0.00\n",
      "Length: 41635, dtype: float64\n"
     ]
    }
   ],
   "source": [
    "print(ranking.sort_values(ascending=False))"
   ]
  },
  {
   "cell_type": "code",
   "execution_count": null,
   "metadata": {},
   "outputs": [],
   "source": []
  }
 ],
 "metadata": {
  "kernelspec": {
   "display_name": "Python 3",
   "language": "python",
   "name": "python3"
  },
  "language_info": {
   "codemirror_mode": {
    "name": "ipython",
    "version": 3
   },
   "file_extension": ".py",
   "mimetype": "text/x-python",
   "name": "python",
   "nbconvert_exporter": "python",
   "pygments_lexer": "ipython3",
   "version": "3.6.6"
  }
 },
 "nbformat": 4,
 "nbformat_minor": 2
}
