{
 "cells": [
  {
   "cell_type": "code",
   "execution_count": 93,
   "metadata": {},
   "outputs": [],
   "source": [
    "from abc import abstractmethod, ABCMeta\n",
    "\n",
    "from sklearn.datasets import make_classification\n",
    "from sklearn.metrics import accuracy_score, mean_squared_error\n",
    "from sklearn.utils.multiclass import type_of_target\n",
    "from sklearn.preprocessing import OneHotEncoder\n",
    "from scipy.special import expit\n",
    "\n",
    "import numpy as np\n",
    "import struct\n",
    "\n",
    "import matplotlib.pyplot as plt\n",
    "%matplotlib inline"
   ]
  },
  {
   "cell_type": "code",
   "execution_count": 94,
   "metadata": {},
   "outputs": [],
   "source": [
    "def softmax(X, theta = 1.0, axis = None):\n",
    "    \"\"\"\n",
    "    Compute the softmax of each element along an axis of X.\n",
    "\n",
    "    Parameters\n",
    "    ----------\n",
    "    X: ND-Array. Probably should be floats. \n",
    "    theta (optional): float parameter, used as a multiplier\n",
    "        prior to exponentiation. Default = 1.0\n",
    "    axis (optional): axis to compute values along. Default is the \n",
    "        first non-singleton axis.\n",
    "\n",
    "    Returns an array the same size as X. The result will sum to 1\n",
    "    along the specified axis.\n",
    "    \"\"\"\n",
    "\n",
    "    # make X at least 2d\n",
    "    y = np.atleast_2d(X)\n",
    "\n",
    "    # find axis\n",
    "    if axis is None:\n",
    "        axis = next(j[0] for j in enumerate(y.shape) if j[1] > 1)\n",
    "\n",
    "    # multiply y against the theta parameter, \n",
    "    y = y * float(theta)\n",
    "\n",
    "    # subtract the max for numerical stability\n",
    "    y = y - np.expand_dims(np.max(y, axis = axis), axis)\n",
    "    \n",
    "    # exponentiate y\n",
    "    y = np.exp(y)\n",
    "\n",
    "    # take the sum along the specified axis\n",
    "    ax_sum = np.expand_dims(np.sum(y, axis = axis), axis)\n",
    "\n",
    "    # finally: divide elementwise\n",
    "    p = y / ax_sum\n",
    "\n",
    "    # flatten if X was 1D\n",
    "    if len(X.shape) == 1: p = p.flatten()\n",
    "\n",
    "    return p"
   ]
  },
  {
   "cell_type": "code",
   "execution_count": 130,
   "metadata": {},
   "outputs": [],
   "source": [
    "class Activation(object):\n",
    "    def __init__(self):\n",
    "        pass\n",
    "    \n",
    "    @abstractmethod\n",
    "    def call(self, X): pass\n",
    "    @abstractmethod\n",
    "    def derivative(self, X): pass\n",
    "    \n",
    "class ActivationSigmoid(Activation):\n",
    "    def __init__(self):\n",
    "        super().__init__()\n",
    "        \n",
    "    def call(self, X):\n",
    "        return expit(X)\n",
    "    \n",
    "    def derivative(self, X):\n",
    "        temp = self.call(X)\n",
    "        return temp / (1 - temp)\n",
    "    \n",
    "class ActivationTanh(Activation):\n",
    "    def __init__(self):\n",
    "        super().__init__()\n",
    "        \n",
    "    def call(self, X):\n",
    "        return np.tanh(X)\n",
    "    \n",
    "    def derivative(self, X):\n",
    "        temp = np.tanh(X)\n",
    "        return 1 - temp**2\n",
    "    \n",
    "class ActivationReLU(Activation):\n",
    "    def __init__(self):\n",
    "        super().__init__()\n",
    "    \n",
    "    def call(self, X):\n",
    "        return (X > 0) * X\n",
    "    \n",
    "    def derivative(self, X):\n",
    "        return (X > 0) * 1\n",
    "    \n",
    "class ActivationSoftMax(Activation):\n",
    "    def __init__(self):\n",
    "        super().__init__()\n",
    "    \n",
    "    def call(self, X):\n",
    "        return softmax(X, axis=1)\n",
    "    \n",
    "    def derivative(self, X):\n",
    "        #нинужно\n",
    "        pass"
   ]
  },
  {
   "cell_type": "code",
   "execution_count": 131,
   "metadata": {},
   "outputs": [],
   "source": [
    "class Layer(object): pass\n",
    "\n",
    "class Layer(object):\n",
    "    def __init__(self, activation: Activation, n_neuron: int):\n",
    "        self.z = None\n",
    "        self.W = None\n",
    "        self.b = None\n",
    "        self.a = None\n",
    "        \n",
    "        self.dZ = None\n",
    "        self.dW = None\n",
    "        self.dB = None\n",
    "        self.dA = None\n",
    "        \n",
    "        self._activation = activation\n",
    "        self.n_neuron = n_neuron\n",
    "       \n",
    "    def forward(self, X):\n",
    "        if self.W is None:\n",
    "            self.W = np.random.normal(size=(X.shape[1], self.n_neuron), loc=0, scale=1)\n",
    "            self.b = np.random.normal(size=(1, self.n_neuron), loc=0, scale=1)\n",
    "        \n",
    "        self.z = X.dot(self.W) + self.b\n",
    "        self.a = self._activation.call(self.z)\n",
    "        \n",
    "        return self.a\n",
    "    \n",
    "    def backward(self, prev_layer: Layer = None, X = None, y=None):\n",
    "        self.dZ = self.dA * self._activation.derivative(self.z)\n",
    "        self.dB = self.dZ.sum(0) / X.shape[0]\n",
    "        \n",
    "        if prev_layer is not None:\n",
    "            self.dW = prev_layer.a.T @ self.dZ / X.shape[0]\n",
    "            prev_layer.dA = self.dZ @ self.W.T\n",
    "        else:\n",
    "            self.dW = X.T @ self.dZ / X.shape[0];\n",
    "            \n",
    "    def update(self, lr):\n",
    "        self.W = self.W - self.dW * lr\n",
    "        self.b = self.b - self.dB * lr\n",
    "        \n",
    "        \n",
    "class LayerCrossEntropy(Layer):\n",
    "    def __init__(self, n_neuron: int):\n",
    "        if n_neuron == 2:\n",
    "            n_neuron = 1\n",
    "        \n",
    "        super().__init__(ActivationSoftMax(), n_neuron)\n",
    "\n",
    "    def backward(self, prev_layer: Layer=None, X=None, y=None):\n",
    "        self.dZ = self.a - y\n",
    "        self.dW = prev_layer.a.T @ self.dZ / X.shape[0]\n",
    "        self.dB = self.dZ.sum(0) / X.shape[0]\n",
    "        prev_layer.dA = self.dZ @ self.W.T\n",
    "        \n",
    "class LayerMSE(Layer):\n",
    "    def __init__(self):\n",
    "        super().__init__(None, 1)\n",
    "        \n",
    "    def forward(self, X):\n",
    "        if self.W is None:\n",
    "            self.W = np.random.normal(size=(X.shape[1], self.n_neuron), loc=0, scale=1)\n",
    "            self.b = np.random.normal(size=(1, self.n_neuron), loc=0, scale=1)\n",
    "        \n",
    "        self.z = X.dot(self.W) + self.b\n",
    "        \n",
    "    def backward(self, prev_layer: Layer=None, X=None, y=None):\n",
    "        self.dZ = 2*(self.z - y)\n",
    "        self.dW = X.T @ self.dZ / X.shape[0]\n",
    "        self.dB = self.dZ.sum(0) / X.shape[1]\n",
    "        \n",
    "        prev_layer.dA = self.dZ @ self.W.T"
   ]
  },
  {
   "cell_type": "code",
   "execution_count": 132,
   "metadata": {},
   "outputs": [],
   "source": [
    "def cross_entropy_loss(y_real, y_pred):\n",
    "    return -np.sum(np.log(y_pred) * y_real)\n",
    "\n",
    "class NeuralNet(object):\n",
    "    def __init__(self, epochs=1000, batch_size=128, loss='cross_entropy', metric='accuracy', lr=1.0, lr_decay_rate=3e-4):\n",
    "        self.epochs = epochs\n",
    "        self.lr = lr\n",
    "        self.lr_decay_rate = lr_decay_rate\n",
    "        self.loss = loss\n",
    "        self.metric = metric\n",
    "        self.batch_size = batch_size\n",
    "        self._layers = list()\n",
    "        self._encoder = None\n",
    "        \n",
    "        if self.metric == 'accuracy':\n",
    "            self._metric_func = accuracy_score\n",
    "        elif self.metric == 'mse':\n",
    "            self._metric_func = mean_squared_error\n",
    "            \n",
    "        if self.loss == 'cross_entropy':\n",
    "            self._loss_func = cross_entropy_loss\n",
    "        elif self.loss == 'mse':\n",
    "            self._loss_func = mean_squared_error\n",
    "        \n",
    "    def add(self, layer: Layer):\n",
    "        self._layers.append(layer)\n",
    "        \n",
    "    def exp_decay(self, initial_lrate, epoch):\n",
    "        k = self.lr_decay_rate\n",
    "        lrate = initial_lrate * np.exp(-k*epoch)\n",
    "        return lrate\n",
    "    \n",
    "    def _forward(self, X):\n",
    "        prev_output = X\n",
    "        for layer in self._layers:\n",
    "            prev_output = layer.forward(prev_output)\n",
    "            \n",
    "        return prev_output\n",
    "        \n",
    "    def _backward(self, X, y):\n",
    "        for ix_layer in reversed(range(len(self._layers))):\n",
    "            if ix_layer > 0:\n",
    "                self._layers[ix_layer].backward(self._layers[ix_layer-1], X, y)\n",
    "            else:\n",
    "                self._layers[ix_layer].backward(None, X, y)\n",
    "    \n",
    "    def _update(self, epoch):\n",
    "        for layer in self._layers:\n",
    "            layer.update(self.exp_decay(self.lr, epoch))\n",
    "    \n",
    "    #def _get_stochastic_batch(self, X, y):\n",
    "    #    batch_indices = np.random.choice(y.shape[0], self.batch_size)\n",
    "    #    \n",
    "    #    return X[batch_indices, :], y[batch_indices, :]\n",
    "    \n",
    "    def fit(self, X, y=None):\n",
    "        history = {'loss': list(), 'metric': list()}\n",
    "        y_cached = np.copy(y)\n",
    "        \n",
    "        if self._layers[-1].__class__.__name__ == 'LayerCrossEntropy':\n",
    "            target_type = type_of_target(y)\n",
    "            if target_type not in ['binary', 'multiclass']:\n",
    "                raise Exception('cross entropy layer is incompatible with regression')\n",
    "            \n",
    "            if target_type == 'multiclass':\n",
    "                self._encoder = OneHotEncoder(sparse=False)\n",
    "                y = self._encoder.fit_transform(y)\n",
    "        \n",
    "        for epoch in range(self.epochs):\n",
    "            for batch in range(X.shape[0] // self.batch_size):\n",
    "                _x = X[batch * self.batch_size:(batch+1) * self.batch_size]\n",
    "                _y = y[batch * self.batch_size:(batch+1) * self.batch_size]\n",
    "            \n",
    "                self._forward(_x)\n",
    "                self._backward(_x, _y)\n",
    "                self._update(epoch)\n",
    "\n",
    "            history['metric'].append(self._metric_func(y_cached, self.predict(X)))\n",
    "            history['loss'].append(self._loss_func(y, self._forward(X)))\n",
    "            \n",
    "\n",
    "        return history\n",
    "            \n",
    "    \n",
    "    def predict(self, X):\n",
    "        prediction = self._forward(X)\n",
    "        if self._encoder is not None:\n",
    "            return np.argmax(prediction, axis=1)\n",
    "        return np.round(prediction)"
   ]
  },
  {
   "cell_type": "code",
   "execution_count": 201,
   "metadata": {},
   "outputs": [],
   "source": [
    "X, y = make_classification(n_classes=5, n_clusters_per_class=2, n_informative=10, n_samples=10000)"
   ]
  },
  {
   "cell_type": "code",
   "execution_count": 208,
   "metadata": {},
   "outputs": [
    {
     "name": "stderr",
     "output_type": "stream",
     "text": [
      "D:\\Program Files (x86)\\Anaconda\\lib\\site-packages\\sklearn\\preprocessing\\_encoders.py:368: FutureWarning: The handling of integer data will change in version 0.22. Currently, the categories are determined based on the range [0, max(values)], while in the future they will be determined based on the unique values.\n",
      "If you want the future behaviour and silence this warning, you can specify \"categories='auto'\".\n",
      "In case you used a LabelEncoder before this OneHotEncoder to convert the categories to integers, then you can now use the OneHotEncoder directly.\n",
      "  warnings.warn(msg, FutureWarning)\n"
     ]
    }
   ],
   "source": [
    "nn = NeuralNet(epochs=300, batch_size=512, lr_decay_rate=5e-3, lr=.5)#3000, 2, 3e-4, 100)\n",
    "\n",
    "nn.add(Layer(ActivationTanh(), 32))\n",
    "nn.add(Layer(ActivationTanh(), 32))\n",
    "nn.add(LayerCrossEntropy(5))\n",
    "       \n",
    "history = nn.fit(X, y.reshape(-1, 1))  \n",
    "result = nn.predict(X)"
   ]
  },
  {
   "cell_type": "code",
   "execution_count": 209,
   "metadata": {},
   "outputs": [
    {
     "data": {
      "text/plain": [
       "0.8096"
      ]
     },
     "execution_count": 209,
     "metadata": {},
     "output_type": "execute_result"
    }
   ],
   "source": [
    "accuracy_score(result, y)"
   ]
  },
  {
   "cell_type": "code",
   "execution_count": 210,
   "metadata": {},
   "outputs": [],
   "source": [
    "def exp_decay(epoch):\n",
    "    k = 5e-3\n",
    "    lrate = 1.0 * np.exp(-k*epoch)\n",
    "    return lrate"
   ]
  },
  {
   "cell_type": "code",
   "execution_count": 211,
   "metadata": {},
   "outputs": [
    {
     "data": {
      "text/plain": [
       "array([0.99501248, 0.95122942, 0.77880078, 0.60653066, 0.47236655,\n",
       "       0.36787944, 0.22313016])"
      ]
     },
     "execution_count": 211,
     "metadata": {},
     "output_type": "execute_result"
    }
   ],
   "source": [
    "exp_decay(np.array([1, 10, 50, 100, 150, 200, 300]).astype(float))"
   ]
  },
  {
   "cell_type": "code",
   "execution_count": 212,
   "metadata": {},
   "outputs": [
    {
     "data": {
      "image/png": "[encoded data removed]",
      "text/plain": [
       "<Figure size 432x288 with 1 Axes>"
      ]
     },
     "metadata": {},
     "output_type": "display_data"
    },
    {
     "data": {
      "image/png": "[encoded data removed]",
      "text/plain": [
       "<Figure size 432x288 with 1 Axes>"
      ]
     },
     "metadata": {},
     "output_type": "display_data"
    }
   ],
   "source": [
    "plt.plot(history['metric'])\n",
    "plt.title('metric')\n",
    "plt.show()\n",
    "plt.plot(history['loss'])\n",
    "plt.title('loss')\n",
    "plt.show()"
   ]
  },
  {
   "cell_type": "markdown",
   "metadata": {},
   "source": [
    "# Load MNIST dataset"
   ]
  },
  {
   "cell_type": "code",
   "execution_count": 213,
   "metadata": {},
   "outputs": [],
   "source": [
    "def read_idx(filename):\n",
    "    with open(filename, 'rb') as f:\n",
    "        zero, data_type, dims = struct.unpack('>HBB', f.read(4))\n",
    "        shape = tuple(struct.unpack('>I', f.read(4))[0] for d in range(dims))\n",
    "        return np.fromstring(f.read(), dtype=np.uint8).reshape(shape)"
   ]
  },
  {
   "cell_type": "code",
   "execution_count": 214,
   "metadata": {},
   "outputs": [
    {
     "name": "stderr",
     "output_type": "stream",
     "text": [
      "D:\\Program Files (x86)\\Anaconda\\lib\\site-packages\\ipykernel_launcher.py:5: DeprecationWarning: The binary mode of fromstring is deprecated, as it behaves surprisingly on unicode inputs. Use frombuffer instead\n",
      "  \"\"\"\n"
     ]
    }
   ],
   "source": [
    "X = read_idx('./mnist/train-images.idx3-ubyte')\n",
    "y = read_idx('./mnist/train-labels.idx1-ubyte')"
   ]
  },
  {
   "cell_type": "code",
   "execution_count": 215,
   "metadata": {},
   "outputs": [],
   "source": [
    "X = X.reshape(60000, -1)\n",
    "y = y.reshape(-1, 1)"
   ]
  },
  {
   "cell_type": "code",
   "execution_count": 216,
   "metadata": {},
   "outputs": [],
   "source": [
    "X = X / 255"
   ]
  },
  {
   "cell_type": "code",
   "execution_count": null,
   "metadata": {},
   "outputs": [
    {
     "name": "stderr",
     "output_type": "stream",
     "text": [
      "D:\\Program Files (x86)\\Anaconda\\lib\\site-packages\\sklearn\\preprocessing\\_encoders.py:368: FutureWarning: The handling of integer data will change in version 0.22. Currently, the categories are determined based on the range [0, max(values)], while in the future they will be determined based on the unique values.\n",
      "If you want the future behaviour and silence this warning, you can specify \"categories='auto'\".\n",
      "In case you used a LabelEncoder before this OneHotEncoder to convert the categories to integers, then you can now use the OneHotEncoder directly.\n",
      "  warnings.warn(msg, FutureWarning)\n",
      "D:\\Program Files (x86)\\Anaconda\\lib\\site-packages\\ipykernel_launcher.py:2: RuntimeWarning: divide by zero encountered in log\n",
      "  \n",
      "D:\\Program Files (x86)\\Anaconda\\lib\\site-packages\\ipykernel_launcher.py:2: RuntimeWarning: invalid value encountered in multiply\n",
      "  \n"
     ]
    }
   ],
   "source": [
    "nn = NeuralNet(epochs=200, batch_size=256, lr=.5, lr_decay_rate=5e-3)#3000, 2, 3e-4, 100)\n",
    "\n",
    "#nn.add(Layer(ActivationReLU(), 500)) \n",
    "nn.add(Layer(ActivationReLU(), 32))\n",
    "nn.add(Layer(ActivationReLU(), 32))\n",
    "#nn.add(Layer(ActivationReLU(), 64))\n",
    "#nn.add(Layer(ActivationReLU(), 32))\n",
    "nn.add(LayerCrossEntropy(10))\n",
    "       \n",
    "history = nn.fit(X, y)  \n",
    "result = nn.predict(X)"
   ]
  },
  {
   "cell_type": "code",
   "execution_count": null,
   "metadata": {},
   "outputs": [],
   "source": [
    "accuracy_score(result, y)"
   ]
  },
  {
   "cell_type": "code",
   "execution_count": null,
   "metadata": {},
   "outputs": [],
   "source": [
    "plt.plot(history['metric'])\n",
    "plt.title('metric')\n",
    "plt.show()\n",
    "plt.plot(history['loss'])\n",
    "plt.title('loss')\n",
    "plt.show()"
   ]
  },
  {
   "cell_type": "code",
   "execution_count": null,
   "metadata": {},
   "outputs": [],
   "source": []
  }
 ],
 "metadata": {
  "kernelspec": {
   "display_name": "Python 3",
   "language": "python",
   "name": "python3"
  },
  "language_info": {
   "codemirror_mode": {
    "name": "ipython",
    "version": 3
   },
   "file_extension": ".py",
   "mimetype": "text/x-python",
   "name": "python",
   "nbconvert_exporter": "python",
   "pygments_lexer": "ipython3",
   "version": "3.6.6"
  }
 },
 "nbformat": 4,
 "nbformat_minor": 2
}
