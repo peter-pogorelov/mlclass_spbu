{
 "cells": [
  {
   "cell_type": "code",
   "execution_count": 1,
   "metadata": {},
   "outputs": [],
   "source": [
    "import numpy as np\n",
    "import pandas as pd\n",
    "import re\n",
    "import os\n",
    "from io import StringIO\n",
    "\n",
    "from sklearn.externals import joblib\n",
    "from scipy.sparse import csr_matrix\n",
    "from sklearn.utils import shuffle\n",
    "from sklearn.model_selection import KFold\n",
    "\n",
    "%matplotlib inline"
   ]
  },
  {
   "cell_type": "markdown",
   "metadata": {},
   "source": [
    "# Релизация модели FM"
   ]
  },
  {
   "cell_type": "code",
   "execution_count": 2,
   "metadata": {},
   "outputs": [],
   "source": [
    "def RMSE_score(y_pred, y_real):\n",
    "    return np.sqrt(np.sum(np.power(y_pred - y_real, 2)) / y_pred.shape[0])\n",
    "\n",
    "def R2_score(y_pred, y_real):\n",
    "    return 1 - np.sum(np.power(y_pred - y_real, 2)) / np.sum(np.power(y_real - np.mean(y_real), 2))\n",
    "\n",
    "def R2_adj_score(y_pred, y_real, features):\n",
    "    R2 = R2_score(y_pred, y_real)\n",
    "    return 1 - (1 - R2) * (y_real.shape[0] - 1) / (y_real.shape[0] - features - 1)"
   ]
  },
  {
   "cell_type": "code",
   "execution_count": 40,
   "metadata": {},
   "outputs": [],
   "source": [
    "class SGD2WAYFactorizationMachine(object):\n",
    "    def __init__(self, k=5, epochs=5, epsilon=1e-4, step=0.001, step_V=None, verbose=0, nobs_verbose=10):\n",
    "        self.epochs = epochs\n",
    "        self.epsilon = epsilon\n",
    "        self.step = step\n",
    "        self.verbose = verbose\n",
    "        self.nobs_verbose = nobs_verbose\n",
    "        if step_V:\n",
    "            self.stepV = step_V\n",
    "        else:\n",
    "            self.stepV = self.step / 10\n",
    "        self.k = k\n",
    "        \n",
    "        self.w0 = None\n",
    "        self.w1 = None\n",
    "        self.V = None\n",
    "    \n",
    "    def fit(self, X, y):\n",
    "        self.w0 = 0\n",
    "        self.w1 = np.random.normal(size=X.shape[1], scale=1)\n",
    "        self.V = np.random.normal(size = (X.shape[1], self.k), scale=1)\n",
    "        \n",
    "        \n",
    "        n = X.shape[0]\n",
    "        \n",
    "        for epoch in range(1, self.epochs + 1):\n",
    "            prev_w0 = np.copy(self.w0)\n",
    "            prev_w1 = np.copy(self.w1)\n",
    "            prev_V = np.copy(self.V)\n",
    "\n",
    "            \n",
    "            # precalc Y gradient for chaining rule (dw = dL/dy * dy/dw)\n",
    "            #dY = -(y - y_hat)\n",
    "            for nobs, obs in enumerate(X):\n",
    "                if nobs % self.nobs_verbose == 0 and self.verbose == 1:\n",
    "                    print('{}-th observation'.format(nobs))\n",
    "                y_hat = self.predict(obs)\n",
    "                dy = -2 * (y[nobs] - y_hat)\n",
    "                self.w0 -= dy * (self.step / epoch)\n",
    "                self.w1 -= dy * obs * (self.step / epoch)\n",
    "                \n",
    "                dV = np.zeros_like(self.V)\n",
    "                for i in range(self.V.shape[0]):\n",
    "                    for f in range(self.V.shape[1]):\n",
    "                        dV[i, f] = obs[i] * (self.V[:, f] @ obs) - self.V[i, f] * obs[i] * obs[i]\n",
    "                        self.V[i, f] -= dy * dV[i, f] * self.stepV\n",
    "\n",
    "            norm = (np.abs(self.w0 - prev_w0) + np.linalg.norm(self.w1 - prev_w1) + np.linalg.norm(self.V - prev_V)) / 3\n",
    "            if norm < self.epsilon:\n",
    "                print('parameters converged')\n",
    "                return\n",
    "    \n",
    "    def calculate_nonlinear_part(self, X):\n",
    "        cumsum = 0\n",
    "        for i in range(self.V.shape[1] - 1):\n",
    "            cumsum += np.power(self.V[:, i] @ X.T, 2) - np.power(self.V[:, i], 2) @ np.power(X, 2).T\n",
    "        \n",
    "        #for i in range(self.V.shape[0] - 1):\n",
    "        #    for j in range(i+1, self.V.shape[0]):\n",
    "        #        cumsum += (self.V[i, :] @ self.V[j, :].T) * X[:, i] * X[:, j]\n",
    "        return cumsum\n",
    "    \n",
    "    def calculate_nonlinear_part_singleobs(self, x):\n",
    "        # maybe it can speedup a lil bit...\n",
    "        cumsum = 0\n",
    "        \n",
    "        for i in range(self.V.shape[1] - 1):\n",
    "            cumsum += np.power(self.V[:, i] @ x, 2) - np.power(self.V[:, i], 2) @ np.power(x, 2)\n",
    "        #for i in range(self.V.shape[0] - 1):\n",
    "        #    for j in range(i+1, self.V.shape[0]):\n",
    "        #        cumsum += (self.V[i, :] @ self.V[j, :].T) * x[i] * x[j]\n",
    "        return cumsum / 2\n",
    "        \n",
    "    def predict(self, X):\n",
    "        if len(X.shape) == 2:\n",
    "            return self.w0 + X @ self.w1 + self.calculate_nonlinear_part(X)\n",
    "        else:\n",
    "            return self.w0 + X @ self.w1 + self.calculate_nonlinear_part_singleobs(X) "
   ]
  },
  {
   "cell_type": "markdown",
   "metadata": {},
   "source": [
    "# Проверка корректности работы алгоритма на примере искусственного датасета"
   ]
  },
  {
   "cell_type": "markdown",
   "metadata": {},
   "source": [
    "# и сравнение с SGD регрессором sklearn"
   ]
  },
  {
   "cell_type": "code",
   "execution_count": 41,
   "metadata": {},
   "outputs": [],
   "source": [
    "from sklearn.datasets import make_regression\n",
    "from sklearn.linear_model import SGDRegressor"
   ]
  },
  {
   "cell_type": "code",
   "execution_count": 51,
   "metadata": {},
   "outputs": [],
   "source": [
    "X, y = make_regression(n_samples=1000, n_features=10, n_informative=3)"
   ]
  },
  {
   "cell_type": "code",
   "execution_count": 52,
   "metadata": {},
   "outputs": [],
   "source": [
    "fm = SGD2WAYFactorizationMachine(epochs=10, k=4, step=0.001, step_V=0.00001)\n",
    "reg = SGDRegressor(fit_intercept=True, penalty='none', shuffle=False, learning_rate='constant', eta0=0.0001, max_iter=10)"
   ]
  },
  {
   "cell_type": "code",
   "execution_count": 53,
   "metadata": {},
   "outputs": [
    {
     "data": {
      "text/plain": [
       "SGDRegressor(alpha=0.0001, average=False, epsilon=0.1, eta0=0.0001,\n",
       "       fit_intercept=True, l1_ratio=0.15, learning_rate='constant',\n",
       "       loss='squared_loss', max_iter=10, n_iter=None, penalty='none',\n",
       "       power_t=0.25, random_state=None, shuffle=False, tol=None, verbose=0,\n",
       "       warm_start=False)"
      ]
     },
     "execution_count": 53,
     "metadata": {},
     "output_type": "execute_result"
    }
   ],
   "source": [
    "reg.fit(X, y)"
   ]
  },
  {
   "cell_type": "code",
   "execution_count": 54,
   "metadata": {},
   "outputs": [],
   "source": [
    "fm.fit(X, y)"
   ]
  },
  {
   "cell_type": "code",
   "execution_count": 55,
   "metadata": {},
   "outputs": [
    {
     "data": {
      "text/plain": [
       "(array([ 0.83838014, 32.36424932, 19.39660857, -0.09382199,  0.2908992 ,\n",
       "         2.66198705,  2.0933585 ,  0.76610217,  0.36110381, 52.09245891]),\n",
       " array([-1.0309923]))"
      ]
     },
     "execution_count": 55,
     "metadata": {},
     "output_type": "execute_result"
    }
   ],
   "source": [
    "reg.coef_, reg.intercept_"
   ]
  },
  {
   "cell_type": "code",
   "execution_count": 56,
   "metadata": {},
   "outputs": [
    {
     "data": {
      "text/plain": [
       "(array([-5.94203705e-02,  5.36782450e+01,  2.64905712e+01, -8.52967995e-02,\n",
       "        -2.75662201e-02,  1.22516241e-01,  9.40340472e-02, -3.56189054e-02,\n",
       "        -9.32514622e-02,  8.55106218e+01]),\n",
       " -0.11967503795305239,\n",
       " array([[-0.37187951,  0.45912204,  0.59570816, -3.09525857],\n",
       "        [ 0.25790071,  0.46519432, -0.32317119,  0.32112894],\n",
       "        [-0.02499659,  0.1339452 ,  0.13787176,  0.10369574],\n",
       "        [-0.55413571,  0.41397531,  0.94694148,  1.55283278],\n",
       "        [ 0.36330264, -0.24761672,  0.13117022,  2.0054282 ],\n",
       "        [ 0.28882273, -0.02085974, -0.06951341, -1.31546993],\n",
       "        [ 0.64042274, -1.5527573 ,  0.3284842 , -1.43001478],\n",
       "        [-0.65723609, -0.40602883, -0.37173831, -0.49254596],\n",
       "        [ 0.86351267,  0.5110508 , -0.26431092, -1.07864236],\n",
       "        [ 0.83274367,  0.25198965,  0.898097  ,  1.25047922]]))"
      ]
     },
     "execution_count": 56,
     "metadata": {},
     "output_type": "execute_result"
    }
   ],
   "source": [
    "fm.w1, fm.w0, fm.V"
   ]
  },
  {
   "cell_type": "code",
   "execution_count": 60,
   "metadata": {},
   "outputs": [
    {
     "data": {
      "text/plain": [
       "array([104.22174246, -86.56265448, -38.04491239,  22.90614193,\n",
       "       -82.0914228 ])"
      ]
     },
     "execution_count": 60,
     "metadata": {},
     "output_type": "execute_result"
    }
   ],
   "source": [
    "reg.predict(X[:5])"
   ]
  },
  {
   "cell_type": "code",
   "execution_count": 61,
   "metadata": {},
   "outputs": [
    {
     "data": {
      "text/plain": [
       "array([ 149.51558509, -125.87380668,  -48.21653458,   46.20227453,\n",
       "       -133.42222577])"
      ]
     },
     "execution_count": 61,
     "metadata": {},
     "output_type": "execute_result"
    }
   ],
   "source": [
    "fm.predict(X[:5])"
   ]
  },
  {
   "cell_type": "code",
   "execution_count": 62,
   "metadata": {},
   "outputs": [
    {
     "data": {
      "text/plain": [
       "array([ 156.61904893, -126.25850739,  -47.3664819 ,   43.42584332,\n",
       "       -135.89882643])"
      ]
     },
     "execution_count": 62,
     "metadata": {},
     "output_type": "execute_result"
    }
   ],
   "source": [
    "y[:5]"
   ]
  },
  {
   "cell_type": "markdown",
   "metadata": {},
   "source": [
    "# Работа с данными"
   ]
  },
  {
   "cell_type": "markdown",
   "metadata": {},
   "source": [
    "## Загрузка датасета"
   ]
  },
  {
   "cell_type": "code",
   "execution_count": 15,
   "metadata": {},
   "outputs": [],
   "source": [
    "txtfile = None"
   ]
  },
  {
   "cell_type": "code",
   "execution_count": 141,
   "metadata": {},
   "outputs": [],
   "source": [
    "if txtfile:\n",
    "    del txtfile\n",
    "\n",
    "with open('Task2/netflix-prize-data/combined_data_1.txt', 'r') as f:\n",
    "    txtfile = f.read()"
   ]
  },
  {
   "cell_type": "code",
   "execution_count": 142,
   "metadata": {},
   "outputs": [],
   "source": [
    "# movies ids\n",
    "film_ids = list(map(lambda x: int(x[:-1]), re.findall(r'\\d+\\:', txtfile)))\n",
    "# separate frames\n",
    "frames_raw = re.split(r'\\d+\\:', txtfile)\n",
    "frames_raw = frames_raw[1:]"
   ]
  },
  {
   "cell_type": "code",
   "execution_count": 143,
   "metadata": {},
   "outputs": [],
   "source": [
    "frames_totale = []\n",
    "\n",
    "for frame, movie_id in zip(frames_raw, film_ids):\n",
    "    sub_df = pd.read_csv(StringIO(frame), names=['CustomerID','Rating','Date'])\n",
    "    sub_df['MovieID'] = movie_id\n",
    "    \n",
    "    frames_totale.append(sub_df)\n",
    "    \n",
    "dataset = pd.concat(frames_totale)"
   ]
  },
  {
   "cell_type": "markdown",
   "metadata": {},
   "source": [
    "## Фильтруем редкие записи"
   ]
  },
  {
   "cell_type": "code",
   "execution_count": 144,
   "metadata": {},
   "outputs": [],
   "source": [
    "users_to_ratings = dataset['CustomerID'].value_counts()"
   ]
  },
  {
   "cell_type": "code",
   "execution_count": 145,
   "metadata": {},
   "outputs": [
    {
     "data": {
      "text/plain": [
       "<matplotlib.axes._subplots.AxesSubplot at 0x543cfbba8>"
      ]
     },
     "execution_count": 145,
     "metadata": {},
     "output_type": "execute_result"
    },
    {
     "data": {
      "image/png": "[encoded data removed]",
      "text/plain": [
       "<matplotlib.figure.Figure at 0x543cfb400>"
      ]
     },
     "metadata": {},
     "output_type": "display_data"
    }
   ],
   "source": [
    "users_to_ratings.hist(bins=1000, figsize=(20, 3))"
   ]
  },
  {
   "cell_type": "code",
   "execution_count": 211,
   "metadata": {},
   "outputs": [
    {
     "data": {
      "text/plain": [
       "((470758,), (85,))"
      ]
     },
     "execution_count": 211,
     "metadata": {},
     "output_type": "execute_result"
    }
   ],
   "source": [
    "users_to_ratings.shape, users_to_ratings[users_to_ratings>1000].shape"
   ]
  },
  {
   "cell_type": "code",
   "execution_count": 227,
   "metadata": {},
   "outputs": [],
   "source": [
    "active_users = users_to_ratings[users_to_ratings>1000].index"
   ]
  },
  {
   "cell_type": "code",
   "execution_count": 213,
   "metadata": {},
   "outputs": [],
   "source": [
    "movies_to_ratings = dataset['MovieID'].value_counts()"
   ]
  },
  {
   "cell_type": "code",
   "execution_count": 216,
   "metadata": {},
   "outputs": [
    {
     "data": {
      "text/plain": [
       "((4499,), (378,))"
      ]
     },
     "execution_count": 216,
     "metadata": {},
     "output_type": "execute_result"
    }
   ],
   "source": [
    "movies_to_ratings.shape, movies_to_ratings[movies_to_ratings>15000].shape"
   ]
  },
  {
   "cell_type": "code",
   "execution_count": 217,
   "metadata": {},
   "outputs": [
    {
     "data": {
      "text/plain": [
       "<matplotlib.axes._subplots.AxesSubplot at 0x4e0897b70>"
      ]
     },
     "execution_count": 217,
     "metadata": {},
     "output_type": "execute_result"
    },
    {
     "data": {
      "image/png": "[encoded data removed]",
      "text/plain": [
       "<matplotlib.figure.Figure at 0x4e09a23c8>"
      ]
     },
     "metadata": {},
     "output_type": "display_data"
    }
   ],
   "source": [
    "movies_to_ratings.hist(bins=1000, figsize=(20, 3))"
   ]
  },
  {
   "cell_type": "code",
   "execution_count": 228,
   "metadata": {},
   "outputs": [],
   "source": [
    "popular_movies = movies_to_ratings[movies_to_ratings>15000].index"
   ]
  },
  {
   "cell_type": "code",
   "execution_count": 229,
   "metadata": {},
   "outputs": [],
   "source": [
    "df = dataset[dataset.MovieID.isin(popular_movies) & dataset.CustomerID.isin(active_users)]"
   ]
  },
  {
   "cell_type": "code",
   "execution_count": 230,
   "metadata": {},
   "outputs": [
    {
     "data": {
      "text/plain": [
       "(24934, 4)"
      ]
     },
     "execution_count": 230,
     "metadata": {},
     "output_type": "execute_result"
    }
   ],
   "source": [
    "df.shape"
   ]
  },
  {
   "cell_type": "markdown",
   "metadata": {},
   "source": [
    "## Таблица с фичами для фильмов"
   ]
  },
  {
   "cell_type": "code",
   "execution_count": 231,
   "metadata": {},
   "outputs": [],
   "source": [
    "if txtfile:\n",
    "    del txtfile\n",
    "    \n",
    "with open('Task2/netflix-prize-data/movie_titles.csv', 'r') as f:\n",
    "    txtfile = f.read()\n",
    "\n",
    "subs = re.compile(r'\\d+,\\d+,')\n",
    "new_lines = []\n",
    "for i in txtfile.split('\\n'):\n",
    "    sub_part = subs.sub('', i)\n",
    "    if 'NULL' not in sub_part:\n",
    "        if ',' not in sub_part:\n",
    "            new_lines.append(i)\n",
    "        else:\n",
    "            left_part = i.replace(sub_part, '')\n",
    "            right_part = sub_part\n",
    "            new_lines.append(left_part + '\"' + right_part + '\"')\n",
    "        \n",
    "movie_info = '\\n'.join(new_lines)\n",
    "movie_table = pd.read_csv(StringIO(movie_info), names = ['MovieID', 'Year', 'Name'])\n",
    "\n",
    "movie_table.MovieID = movie_table.MovieID.astype(int)\n",
    "movie_table.Year = movie_table.Year.astype(int)"
   ]
  },
  {
   "cell_type": "code",
   "execution_count": 232,
   "metadata": {},
   "outputs": [],
   "source": [
    "movie_table_filtered = movie_table[movie_table.MovieID.isin(popular_movies.values)]"
   ]
  },
  {
   "cell_type": "code",
   "execution_count": 233,
   "metadata": {},
   "outputs": [],
   "source": [
    "movie_table_filtered = movie_table_filtered.set_index('MovieID')"
   ]
  },
  {
   "cell_type": "code",
   "execution_count": 234,
   "metadata": {},
   "outputs": [],
   "source": [
    "features = df.CustomerID.unique().shape[0] + movie_table_filtered.Year.unique().shape[0] + movie_table_filtered.shape[0]"
   ]
  },
  {
   "cell_type": "code",
   "execution_count": 235,
   "metadata": {},
   "outputs": [
    {
     "name": "stdout",
     "output_type": "stream",
     "text": [
      "Число фичей 510\n"
     ]
    }
   ],
   "source": [
    "print('Число фичей', features)"
   ]
  },
  {
   "cell_type": "code",
   "execution_count": 262,
   "metadata": {},
   "outputs": [
    {
     "name": "stdout",
     "output_type": "stream",
     "text": [
      "Число параметров в модели 2041\n"
     ]
    }
   ],
   "source": [
    "k = 3\n",
    "print('Число параметров в модели', 1 + features + k*features)"
   ]
  },
  {
   "cell_type": "markdown",
   "metadata": {},
   "source": [
    "### Формируем датасет для обучения"
   ]
  },
  {
   "cell_type": "code",
   "execution_count": 246,
   "metadata": {},
   "outputs": [],
   "source": [
    "max_movies = popular_movies.shape[0]\n",
    "max_users = active_users.shape[0]\n",
    "max_years = movie_table_filtered.Year.unique().shape[0]"
   ]
  },
  {
   "cell_type": "code",
   "execution_count": 247,
   "metadata": {},
   "outputs": [],
   "source": [
    "#encode year\n",
    "years_mapping = dict(zip(movie_table_filtered.Year.unique(), range(movie_table_filtered.Year.unique().shape[0])))\n",
    "users_mapping = dict(zip(active_users, range(active_users.shape[0])))\n",
    "movies_mapping = dict(zip(popular_movies, range(popular_movies.shape[0])))"
   ]
  },
  {
   "cell_type": "code",
   "execution_count": 313,
   "metadata": {},
   "outputs": [
    {
     "name": "stdout",
     "output_type": "stream",
     "text": [
      "0.80\n"
     ]
    }
   ],
   "source": [
    "X = []\n",
    "y = []\n",
    "count = 1\n",
    "for _, i in df.iterrows():\n",
    "    if count % 20000 == 0:\n",
    "        print('%.2f' % (count / df.shape[0]))\n",
    "        \n",
    "    id_movie = i['MovieID']\n",
    "    id_customer = i['CustomerID']\n",
    "    rating = i['Rating']\n",
    "    year = movie_table_filtered.loc[id_movie].Year\n",
    "    row = np.zeros(features)\n",
    "    \n",
    "    row[movies_mapping[id_movie]] = 1\n",
    "    row[max_movies + users_mapping[id_customer]] = 1\n",
    "    row[max_movies + max_users + years_mapping[year]] = 1\n",
    "    \n",
    "    X.append(row)\n",
    "    y.append(rating)\n",
    "    count += 1"
   ]
  },
  {
   "cell_type": "code",
   "execution_count": 314,
   "metadata": {},
   "outputs": [],
   "source": [
    "X = np.array(X)"
   ]
  },
  {
   "cell_type": "markdown",
   "metadata": {},
   "source": [
    "### сожмем матрицу"
   ]
  },
  {
   "cell_type": "code",
   "execution_count": 315,
   "metadata": {},
   "outputs": [],
   "source": [
    "X_sparse = csr_matrix(X)"
   ]
  },
  {
   "cell_type": "code",
   "execution_count": 316,
   "metadata": {},
   "outputs": [],
   "source": [
    "y = np.array(y).reshape(-1, 1)"
   ]
  },
  {
   "cell_type": "code",
   "execution_count": 317,
   "metadata": {},
   "outputs": [
    {
     "data": {
      "text/plain": [
       "['./Task2/processed/y.bin']"
      ]
     },
     "execution_count": 317,
     "metadata": {},
     "output_type": "execute_result"
    }
   ],
   "source": [
    "os.makedirs('./Task2/processed/', exist_ok=True)\n",
    "joblib.dump(X_sparse, './Task2/processed/X.bin')\n",
    "joblib.dump(y, './Task2/processed/y.bin')"
   ]
  },
  {
   "cell_type": "markdown",
   "metadata": {},
   "source": [
    "### попытка обучить модель"
   ]
  },
  {
   "cell_type": "code",
   "execution_count": 64,
   "metadata": {},
   "outputs": [],
   "source": [
    "y = joblib.load('./Task2/processed/y.bin')\n",
    "X = joblib.load('./Task2/processed/X.bin')"
   ]
  },
  {
   "cell_type": "code",
   "execution_count": 65,
   "metadata": {},
   "outputs": [],
   "source": [
    "y = np.array(y).squeeze()"
   ]
  },
  {
   "cell_type": "code",
   "execution_count": 66,
   "metadata": {},
   "outputs": [],
   "source": [
    "X = np.array(X.todense())"
   ]
  },
  {
   "cell_type": "code",
   "execution_count": 67,
   "metadata": {},
   "outputs": [],
   "source": [
    "X, y = shuffle(X, y)"
   ]
  },
  {
   "cell_type": "code",
   "execution_count": 68,
   "metadata": {},
   "outputs": [
    {
     "name": "stdout",
     "output_type": "stream",
     "text": [
      "new fold\n",
      "0-th observation\n",
      "5000-th observation\n",
      "10000-th observation\n",
      "15000-th observation\n",
      "20000-th observation\n",
      "new fold\n",
      "0-th observation\n",
      "5000-th observation\n",
      "10000-th observation\n",
      "15000-th observation\n",
      "20000-th observation\n",
      "new fold\n",
      "0-th observation\n",
      "5000-th observation\n",
      "10000-th observation\n",
      "15000-th observation\n",
      "20000-th observation\n",
      "new fold\n",
      "0-th observation\n",
      "5000-th observation\n",
      "10000-th observation\n",
      "15000-th observation\n",
      "20000-th observation\n",
      "new fold\n",
      "0-th observation\n",
      "5000-th observation\n",
      "10000-th observation\n",
      "15000-th observation\n",
      "20000-th observation\n",
      "new fold\n",
      "0-th observation\n",
      "5000-th observation\n",
      "10000-th observation\n",
      "15000-th observation\n",
      "20000-th observation\n",
      "new fold\n",
      "0-th observation\n",
      "5000-th observation\n",
      "10000-th observation\n",
      "15000-th observation\n",
      "20000-th observation\n",
      "new fold\n",
      "0-th observation\n",
      "5000-th observation\n",
      "10000-th observation\n",
      "15000-th observation\n",
      "20000-th observation\n"
     ]
    }
   ],
   "source": [
    "rmse_train = []\n",
    "rmse_test = []\n",
    "r2_train = []\n",
    "r2_test = []\n",
    "r2_adj_train = []\n",
    "r2_adj_test = []\n",
    "features = []\n",
    "features_names = []\n",
    "\n",
    "kfold = KFold(n_splits=8)\n",
    "\n",
    "for ix_train, ix_test in kfold.split(X):\n",
    "    print('new fold')\n",
    "    mdl = SGD2WAYFactorizationMachine(epochs=1, k=2, step=0.001, step_V=0.0001, verbose=1, nobs_verbose=5000)\n",
    "    \n",
    "    X_train = X[ix_train]\n",
    "    y_train = y[ix_train]\n",
    "    \n",
    "    X_test = X[ix_test]\n",
    "    y_test = y[ix_test]\n",
    "    \n",
    "    mdl.fit(X_train, y_train)\n",
    "    \n",
    "    rmse_test.append(RMSE_score(mdl.predict(X_test), y_test))\n",
    "    r2_test.append(R2_score(mdl.predict(X_test), y_test))\n",
    "    r2_adj_test.append(R2_adj_score(mdl.predict(X_test), y_test, X.shape[1]))\n",
    "    \n",
    "    rmse_train.append(RMSE_score(mdl.predict(X_train), y_train))\n",
    "    r2_train.append(R2_score(mdl.predict(X_train), y_train))\n",
    "    r2_adj_train.append(R2_adj_score(mdl.predict(X_train), y_train, X.shape[1]))\n",
    "    \n",
    "    \n",
    "    #temp = sorted(zip(X.columns, mdl.w), key=lambda x: -np.abs(x[1]))\n",
    "    #features.append(mdl.w)\n",
    "    #features_names.append([i[0] for i in temp])"
   ]
  },
  {
   "cell_type": "code",
   "execution_count": 69,
   "metadata": {},
   "outputs": [
    {
     "data": {
      "text/html": [
       "<div>\n",
       "<style scoped>\n",
       "    .dataframe tbody tr th:only-of-type {\n",
       "        vertical-align: middle;\n",
       "    }\n",
       "\n",
       "    .dataframe tbody tr th {\n",
       "        vertical-align: top;\n",
       "    }\n",
       "\n",
       "    .dataframe thead th {\n",
       "        text-align: right;\n",
       "    }\n",
       "</style>\n",
       "<table border=\"1\" class=\"dataframe\">\n",
       "  <thead>\n",
       "    <tr style=\"text-align: right;\">\n",
       "      <th></th>\n",
       "      <th>0</th>\n",
       "      <th>1</th>\n",
       "      <th>2</th>\n",
       "      <th>3</th>\n",
       "      <th>4</th>\n",
       "      <th>5</th>\n",
       "      <th>6</th>\n",
       "      <th>7</th>\n",
       "      <th>mean</th>\n",
       "      <th>std</th>\n",
       "    </tr>\n",
       "  </thead>\n",
       "  <tbody>\n",
       "    <tr>\n",
       "      <th>r2_test</th>\n",
       "      <td>-3.546568</td>\n",
       "      <td>-4.332787</td>\n",
       "      <td>-4.201231</td>\n",
       "      <td>-4.883857</td>\n",
       "      <td>-5.348082</td>\n",
       "      <td>-3.974355</td>\n",
       "      <td>-3.508859</td>\n",
       "      <td>-4.438080</td>\n",
       "      <td>-4.279227</td>\n",
       "      <td>0.628538</td>\n",
       "    </tr>\n",
       "    <tr>\n",
       "      <th>r2_train</th>\n",
       "      <td>-3.547276</td>\n",
       "      <td>-3.902593</td>\n",
       "      <td>-3.607944</td>\n",
       "      <td>-4.774509</td>\n",
       "      <td>-4.850212</td>\n",
       "      <td>-4.259810</td>\n",
       "      <td>-3.595443</td>\n",
       "      <td>-4.400508</td>\n",
       "      <td>-4.117287</td>\n",
       "      <td>0.530822</td>\n",
       "    </tr>\n",
       "    <tr>\n",
       "      <th>r2_adj_test</th>\n",
       "      <td>-4.436342</td>\n",
       "      <td>-5.376426</td>\n",
       "      <td>-5.219124</td>\n",
       "      <td>-6.035340</td>\n",
       "      <td>-6.590415</td>\n",
       "      <td>-4.947848</td>\n",
       "      <td>-4.391591</td>\n",
       "      <td>-5.502733</td>\n",
       "      <td>-5.312477</td>\n",
       "      <td>0.751499</td>\n",
       "    </tr>\n",
       "    <tr>\n",
       "      <th>r2_adj_train</th>\n",
       "      <td>-3.656124</td>\n",
       "      <td>-4.019946</td>\n",
       "      <td>-3.718244</td>\n",
       "      <td>-4.912733</td>\n",
       "      <td>-4.990248</td>\n",
       "      <td>-4.385714</td>\n",
       "      <td>-3.705439</td>\n",
       "      <td>-4.529774</td>\n",
       "      <td>-4.239778</td>\n",
       "      <td>0.543529</td>\n",
       "    </tr>\n",
       "    <tr>\n",
       "      <th>rmse_test</th>\n",
       "      <td>2.782706</td>\n",
       "      <td>3.009414</td>\n",
       "      <td>2.944782</td>\n",
       "      <td>3.149160</td>\n",
       "      <td>3.255060</td>\n",
       "      <td>2.904664</td>\n",
       "      <td>2.795153</td>\n",
       "      <td>3.024253</td>\n",
       "      <td>2.983149</td>\n",
       "      <td>0.163457</td>\n",
       "    </tr>\n",
       "    <tr>\n",
       "      <th>rmse_train</th>\n",
       "      <td>2.772678</td>\n",
       "      <td>2.879574</td>\n",
       "      <td>2.795316</td>\n",
       "      <td>3.126856</td>\n",
       "      <td>3.149465</td>\n",
       "      <td>2.982850</td>\n",
       "      <td>2.783487</td>\n",
       "      <td>3.024361</td>\n",
       "      <td>2.939323</td>\n",
       "      <td>0.153445</td>\n",
       "    </tr>\n",
       "  </tbody>\n",
       "</table>\n",
       "</div>"
      ],
      "text/plain": [
       "                     0         1         2         3         4         5  \\\n",
       "r2_test      -3.546568 -4.332787 -4.201231 -4.883857 -5.348082 -3.974355   \n",
       "r2_train     -3.547276 -3.902593 -3.607944 -4.774509 -4.850212 -4.259810   \n",
       "r2_adj_test  -4.436342 -5.376426 -5.219124 -6.035340 -6.590415 -4.947848   \n",
       "r2_adj_train -3.656124 -4.019946 -3.718244 -4.912733 -4.990248 -4.385714   \n",
       "rmse_test     2.782706  3.009414  2.944782  3.149160  3.255060  2.904664   \n",
       "rmse_train    2.772678  2.879574  2.795316  3.126856  3.149465  2.982850   \n",
       "\n",
       "                     6         7      mean       std  \n",
       "r2_test      -3.508859 -4.438080 -4.279227  0.628538  \n",
       "r2_train     -3.595443 -4.400508 -4.117287  0.530822  \n",
       "r2_adj_test  -4.391591 -5.502733 -5.312477  0.751499  \n",
       "r2_adj_train -3.705439 -4.529774 -4.239778  0.543529  \n",
       "rmse_test     2.795153  3.024253  2.983149  0.163457  \n",
       "rmse_train    2.783487  3.024361  2.939323  0.153445  "
      ]
     },
     "execution_count": 69,
     "metadata": {},
     "output_type": "execute_result"
    }
   ],
   "source": [
    "df = pd.DataFrame(np.vstack([r2_test, r2_train, r2_adj_test, r2_adj_train, rmse_test, rmse_train]), index=[\n",
    "    'r2_test',\n",
    "    'r2_train',\n",
    "    'r2_adj_test',\n",
    "    'r2_adj_train',\n",
    "    'rmse_test',\n",
    "    'rmse_train',\n",
    "])\n",
    "\n",
    "df = pd.concat([df, df.mean(axis=1).rename('mean'), df.std(axis=1).rename('std')], axis=1)\n",
    "\n",
    "df"
   ]
  },
  {
   "cell_type": "code",
   "execution_count": null,
   "metadata": {},
   "outputs": [],
   "source": []
  }
 ],
 "metadata": {
  "kernelspec": {
   "display_name": "Python 3",
   "language": "python",
   "name": "python3"
  },
  "language_info": {
   "codemirror_mode": {
    "name": "ipython",
    "version": 3
   },
   "file_extension": ".py",
   "mimetype": "text/x-python",
   "name": "python",
   "nbconvert_exporter": "python",
   "pygments_lexer": "ipython3",
   "version": "3.6.3"
  }
 },
 "nbformat": 4,
 "nbformat_minor": 2
}
