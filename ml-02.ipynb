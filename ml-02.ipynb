{
 "cells": [
  {
   "cell_type": "code",
   "execution_count": 467,
   "metadata": {},
   "outputs": [],
   "source": [
    "import numpy as np\n",
    "import pandas as pd\n",
    "import re\n",
    "import os\n",
    "from io import StringIO\n",
    "\n",
    "from sklearn.externals import joblib\n",
    "from scipy.sparse import csr_matrix\n",
    "from sklearn.utils import shuffle\n",
    "from sklearn.model_selection import KFold\n",
    "\n",
    "import matplotlib.pyplot as plt\n",
    "\n",
    "%matplotlib inline"
   ]
  },
  {
   "cell_type": "markdown",
   "metadata": {},
   "source": [
    "# Релизация модели FM"
   ]
  },
  {
   "cell_type": "code",
   "execution_count": 468,
   "metadata": {},
   "outputs": [],
   "source": [
    "def RMSE_score(y_pred, y_real):\n",
    "    return np.sqrt(np.sum(np.power(y_pred - y_real, 2)) / y_pred.shape[0])\n",
    "\n",
    "def R2_score(y_pred, y_real):\n",
    "    return 1 - np.sum(np.power(y_pred - y_real, 2)) / np.sum(np.power(y_real - np.mean(y_real), 2))\n",
    "\n",
    "def R2_adj_score(y_pred, y_real, features):\n",
    "    R2 = R2_score(y_pred, y_real)\n",
    "    return 1 - (1 - R2) * (y_real.shape[0] - 1) / (y_real.shape[0] - features - 1)"
   ]
  },
  {
   "cell_type": "code",
   "execution_count": 469,
   "metadata": {},
   "outputs": [
    {
     "data": {
      "text/plain": [
       "array([[1, 1],\n",
       "       [6, 8]])"
      ]
     },
     "execution_count": 469,
     "metadata": {},
     "output_type": "execute_result"
    }
   ],
   "source": [
    "np.array([1,2]).reshape(-1, 1) * np.array([[1, 1], [3, 4]])"
   ]
  },
  {
   "cell_type": "code",
   "execution_count": 470,
   "metadata": {},
   "outputs": [],
   "source": [
    "class SGD2WAYFactorizationMachine(object):\n",
    "    def __init__(self, k=5, epochs=5, batch_size = 64, epsilon=1e-4, step=0.001, step_V=None, verbose=0, nobs_verbose=10):\n",
    "        self.epochs = epochs\n",
    "        self.batch_size = batch_size\n",
    "        self.epsilon = epsilon\n",
    "        self.step = step\n",
    "        self.verbose = verbose\n",
    "        self.nobs_verbose = nobs_verbose\n",
    "        if step_V:\n",
    "            self.stepV = step_V\n",
    "        else:\n",
    "            self.stepV = self.step / 10\n",
    "        self.k = k\n",
    "        \n",
    "        self.w0 = None\n",
    "        self.w1 = None\n",
    "        self.V = None\n",
    "        \n",
    "        self.Z = None\n",
    "        self.Z_squared = None\n",
    "\n",
    "    def fit(self, X, Y):\n",
    "        self.w0 = 0\n",
    "        self.w1 = np.random.normal(size=X.shape[1], scale=.1)\n",
    "        self.V = np.random.normal(size=(X.shape[1], self.k), scale=.1)\n",
    "        \n",
    "        n = X.shape[0]\n",
    "        for epoch in range(2, self.epochs + 2):\n",
    "            batch_indices = np.random.choice(n, self.batch_size)\n",
    "            x = X[batch_indices, :]\n",
    "            y = Y[batch_indices]\n",
    "            \n",
    "            y_hat = self.predict(x)\n",
    "            dy = -2 * (y - y_hat).reshape(-1, 1)\n",
    "            self.w0 -= np.mean(dy) * self.step\n",
    "            self.w1 -= np.mean(dy * x, axis=0) * self.step\n",
    "            \n",
    "            for f in range(self.k):\n",
    "                left = x * (x @ self.V[:, f]).reshape(-1, 1)\n",
    "                right = np.power(x, 2) * self.V[:, f]\n",
    "                self.V[:, f] -=  np.mean(dy * (left - right), axis=0) * self.stepV\n",
    "    \n",
    "    def calculate_nonlinear_part(self, X):\n",
    "        self.Z = X @ self.V\n",
    "        self.Z_squared = np.power(self.Z, 2)\n",
    "        self.squared_Z = np.power(X, 2) @ np.power(self.V, 2)\n",
    "        return 1/2 * np.sum(self.Z_squared - self.squared_Z, axis=1)\n",
    "        \n",
    "    def predict(self, X):\n",
    "        return np.array(self.w0 + X @ self.w1) + self.calculate_nonlinear_part(X)"
   ]
  },
  {
   "cell_type": "markdown",
   "metadata": {},
   "source": [
    "# Проверка корректности работы алгоритма на примере искусственного датасета"
   ]
  },
  {
   "cell_type": "markdown",
   "metadata": {},
   "source": [
    "# и сравнение с SGD регрессором sklearn"
   ]
  },
  {
   "cell_type": "code",
   "execution_count": 471,
   "metadata": {},
   "outputs": [],
   "source": [
    "from sklearn.datasets import make_regression\n",
    "from sklearn.linear_model import SGDRegressor"
   ]
  },
  {
   "cell_type": "code",
   "execution_count": 472,
   "metadata": {},
   "outputs": [],
   "source": [
    "X, y, coefs = make_regression(n_samples=10000, n_features=4, n_targets=4, n_informative=2, coef=True)"
   ]
  },
  {
   "cell_type": "code",
   "execution_count": 473,
   "metadata": {},
   "outputs": [],
   "source": [
    "X = np.concatenate([X, y[:, :-1]], axis=1)\n",
    "y = y[:, -1]"
   ]
  },
  {
   "cell_type": "code",
   "execution_count": 474,
   "metadata": {},
   "outputs": [],
   "source": [
    "fm = SGD2WAYFactorizationMachine(epochs=20000, batch_size=128, k=8, step=1e-6, step_V=1e-10)\n",
    "reg = SGDRegressor(fit_intercept=True, penalty='none', shuffle=False, learning_rate='constant', eta0=0.001, max_iter=10)"
   ]
  },
  {
   "cell_type": "code",
   "execution_count": 475,
   "metadata": {},
   "outputs": [
    {
     "data": {
      "text/plain": [
       "SGDRegressor(alpha=0.0001, average=False, epsilon=0.1, eta0=0.001,\n",
       "       fit_intercept=True, l1_ratio=0.15, learning_rate='constant',\n",
       "       loss='squared_loss', max_iter=10, n_iter=None, penalty='none',\n",
       "       power_t=0.25, random_state=None, shuffle=False, tol=None, verbose=0,\n",
       "       warm_start=False)"
      ]
     },
     "execution_count": 475,
     "metadata": {},
     "output_type": "execute_result"
    }
   ],
   "source": [
    "reg.fit(X, y)"
   ]
  },
  {
   "cell_type": "code",
   "execution_count": 476,
   "metadata": {},
   "outputs": [],
   "source": [
    "fm.fit(X, y)"
   ]
  },
  {
   "cell_type": "code",
   "execution_count": 477,
   "metadata": {},
   "outputs": [
    {
     "data": {
      "text/plain": [
       "(array([-1.59553464e+09, -5.70526010e+10,  1.29601973e+09, -1.36836521e+10,\n",
       "        -1.27174444e+09,  5.86770271e+10,  6.61696419e+10]),\n",
       " array([-1.47196827e+10]))"
      ]
     },
     "execution_count": 477,
     "metadata": {},
     "output_type": "execute_result"
    }
   ],
   "source": [
    "reg.coef_, reg.intercept_"
   ]
  },
  {
   "cell_type": "code",
   "execution_count": 478,
   "metadata": {},
   "outputs": [
    {
     "data": {
      "text/plain": [
       "(array([-0.02708201,  0.14515965,  0.08171136, -0.02877971,  0.9955902 ,\n",
       "        -0.25625215, -0.38877971]),\n",
       " 0.2767099045372038,\n",
       " array([[-0.05069197,  0.0479299 ,  0.01192695,  0.0906374 ,  0.08416273,\n",
       "         -0.02587042, -0.04920675,  0.0020655 ],\n",
       "        [ 0.04545723, -0.05583236, -0.04059896, -0.07360661,  0.05608388,\n",
       "          0.01447106,  0.13222092, -0.24748599],\n",
       "        [ 0.0947332 ,  0.05279192, -0.04216349,  0.07804983, -0.04941995,\n",
       "         -0.06471146,  0.04819529,  0.03377228],\n",
       "        [ 0.12275508,  0.06073577,  0.0425272 ,  0.07894504,  0.00949818,\n",
       "          0.03553006, -0.01805239,  0.23151173],\n",
       "        [ 0.0437487 ,  0.11643986, -0.01463433, -0.07922929, -0.06314389,\n",
       "         -0.05891743, -0.02584838,  0.03402319],\n",
       "        [ 0.09300275, -0.11004533,  0.10516595,  0.01132965, -0.07124467,\n",
       "          0.15787426, -0.02603867,  0.1311427 ],\n",
       "        [ 0.05407874,  0.1414028 ,  0.11564726, -0.0302022 ,  0.10324738,\n",
       "         -0.08183939,  0.06376223,  0.09920478]]))"
      ]
     },
     "execution_count": 478,
     "metadata": {},
     "output_type": "execute_result"
    }
   ],
   "source": [
    "fm.w1, fm.w0, fm.V"
   ]
  },
  {
   "cell_type": "code",
   "execution_count": 479,
   "metadata": {},
   "outputs": [
    {
     "data": {
      "text/plain": [
       "array([-5.15519754e+12,  6.88093309e+12, -3.65688922e+12,  1.27855928e+13,\n",
       "       -7.40276776e+12])"
      ]
     },
     "execution_count": 479,
     "metadata": {},
     "output_type": "execute_result"
    }
   ],
   "source": [
    "reg.predict(X[:5])"
   ]
  },
  {
   "cell_type": "code",
   "execution_count": 480,
   "metadata": {},
   "outputs": [
    {
     "data": {
      "text/plain": [
       "array([-15.75203247,  43.66303282,  11.77278463,  11.11086786,\n",
       "        -6.72886861])"
      ]
     },
     "execution_count": 480,
     "metadata": {},
     "output_type": "execute_result"
    }
   ],
   "source": [
    "fm.predict(X[:5])"
   ]
  },
  {
   "cell_type": "code",
   "execution_count": 481,
   "metadata": {},
   "outputs": [
    {
     "data": {
      "text/plain": [
       "array([-29.22049528,  31.66183419,  18.1813741 ,  10.65373804,\n",
       "       -13.06016372])"
      ]
     },
     "execution_count": 481,
     "metadata": {},
     "output_type": "execute_result"
    }
   ],
   "source": [
    "y[:5]"
   ]
  },
  {
   "cell_type": "code",
   "execution_count": 482,
   "metadata": {},
   "outputs": [],
   "source": [
    "# ну не знаю, мне кажется что норм."
   ]
  },
  {
   "cell_type": "markdown",
   "metadata": {},
   "source": [
    "# Работа с данными"
   ]
  },
  {
   "cell_type": "markdown",
   "metadata": {},
   "source": [
    "## Загрузка датасета"
   ]
  },
  {
   "cell_type": "code",
   "execution_count": 523,
   "metadata": {},
   "outputs": [],
   "source": [
    "def process_document(doc):\n",
    "    # movies ids\n",
    "    film_ids = list(map(lambda x: int(x[:-1]), re.findall(r'\\d+\\:', doc)))\n",
    "    # separate frames\n",
    "    frames_raw = re.split(r'\\d+\\:', doc)\n",
    "    frames_raw = frames_raw[1:]\n",
    "    \n",
    "    frames_totale = []\n",
    "\n",
    "    for frame, movie_id in zip(frames_raw, film_ids):\n",
    "        sub_df = pd.read_csv(StringIO(frame), names=['CustomerID','Rating','Date'])\n",
    "        sub_df['MovieID'] = movie_id\n",
    "\n",
    "        frames_totale.append(sub_df)\n",
    "\n",
    "    dataset = pd.concat(frames_totale)\n",
    "    \n",
    "    return dataset"
   ]
  },
  {
   "cell_type": "code",
   "execution_count": 483,
   "metadata": {},
   "outputs": [],
   "source": [
    "txtfile = None"
   ]
  },
  {
   "cell_type": "code",
   "execution_count": 524,
   "metadata": {},
   "outputs": [],
   "source": [
    "if txtfile:\n",
    "    del txtfile\n",
    "\n",
    "with open('Task2/netflix-prize-data/combined_data_1.txt', 'r') as f:\n",
    "    txtfile = f.read()\n",
    "    \n",
    "dataset_p1 = process_document(txtfile)"
   ]
  },
  {
   "cell_type": "code",
   "execution_count": 526,
   "metadata": {},
   "outputs": [],
   "source": [
    "if txtfile:\n",
    "    del txtfile\n",
    "\n",
    "with open('Task2/netflix-prize-data/combined_data_2.txt', 'r') as f:\n",
    "    txtfile = f.read()\n",
    "    \n",
    "dataset_p2 = process_document(txtfile)"
   ]
  },
  {
   "cell_type": "code",
   "execution_count": 528,
   "metadata": {},
   "outputs": [],
   "source": [
    "dataset = pd.concat([dataset_p1, dataset_p2], axis=0)"
   ]
  },
  {
   "cell_type": "markdown",
   "metadata": {},
   "source": [
    "## Фильтруем редкие записи"
   ]
  },
  {
   "cell_type": "code",
   "execution_count": 529,
   "metadata": {},
   "outputs": [],
   "source": [
    "users_to_ratings = dataset['CustomerID'].value_counts()"
   ]
  },
  {
   "cell_type": "code",
   "execution_count": 530,
   "metadata": {},
   "outputs": [
    {
     "data": {
      "text/plain": [
       "<matplotlib.axes._subplots.AxesSubplot at 0x19a547668>"
      ]
     },
     "execution_count": 530,
     "metadata": {},
     "output_type": "execute_result"
    },
    {
     "data": {
      "image/png": "[encoded data removed]",
      "text/plain": [
       "<matplotlib.figure.Figure at 0x19afcbf28>"
      ]
     },
     "metadata": {},
     "output_type": "display_data"
    }
   ],
   "source": [
    "users_to_ratings.hist(bins=1000, figsize=(20, 3))"
   ]
  },
  {
   "cell_type": "code",
   "execution_count": 531,
   "metadata": {},
   "outputs": [
    {
     "data": {
      "text/plain": [
       "((478018,), (1374,))"
      ]
     },
     "execution_count": 531,
     "metadata": {},
     "output_type": "execute_result"
    }
   ],
   "source": [
    "users_to_ratings.shape, users_to_ratings[users_to_ratings>1000].shape"
   ]
  },
  {
   "cell_type": "code",
   "execution_count": 532,
   "metadata": {},
   "outputs": [],
   "source": [
    "active_users = users_to_ratings[users_to_ratings>1000].index"
   ]
  },
  {
   "cell_type": "code",
   "execution_count": 533,
   "metadata": {},
   "outputs": [],
   "source": [
    "movies_to_ratings = dataset['MovieID'].value_counts()"
   ]
  },
  {
   "cell_type": "code",
   "execution_count": 534,
   "metadata": {},
   "outputs": [
    {
     "data": {
      "text/plain": [
       "((9210,), (805,))"
      ]
     },
     "execution_count": 534,
     "metadata": {},
     "output_type": "execute_result"
    }
   ],
   "source": [
    "movies_to_ratings.shape, movies_to_ratings[movies_to_ratings>15000].shape"
   ]
  },
  {
   "cell_type": "code",
   "execution_count": 536,
   "metadata": {},
   "outputs": [
    {
     "data": {
      "text/plain": [
       "<matplotlib.axes._subplots.AxesSubplot at 0x222bab5f8>"
      ]
     },
     "execution_count": 536,
     "metadata": {},
     "output_type": "execute_result"
    },
    {
     "data": {
      "image/png": "[encoded data removed]",
      "text/plain": [
       "<matplotlib.figure.Figure at 0x1e56bea20>"
      ]
     },
     "metadata": {},
     "output_type": "display_data"
    }
   ],
   "source": [
    "movies_to_ratings.hist(bins=1000, figsize=(20, 3))"
   ]
  },
  {
   "cell_type": "code",
   "execution_count": 537,
   "metadata": {},
   "outputs": [],
   "source": [
    "popular_movies = movies_to_ratings[movies_to_ratings>15000].index"
   ]
  },
  {
   "cell_type": "code",
   "execution_count": 538,
   "metadata": {},
   "outputs": [],
   "source": [
    "df = dataset[dataset.MovieID.isin(popular_movies) & dataset.CustomerID.isin(active_users)]"
   ]
  },
  {
   "cell_type": "code",
   "execution_count": 539,
   "metadata": {},
   "outputs": [
    {
     "data": {
      "text/plain": [
       "(736362, 4)"
      ]
     },
     "execution_count": 539,
     "metadata": {},
     "output_type": "execute_result"
    }
   ],
   "source": [
    "df.shape"
   ]
  },
  {
   "cell_type": "markdown",
   "metadata": {},
   "source": [
    "## Таблица с фичами для фильмов"
   ]
  },
  {
   "cell_type": "code",
   "execution_count": 540,
   "metadata": {},
   "outputs": [],
   "source": [
    "if txtfile:\n",
    "    del txtfile\n",
    "    \n",
    "with open('Task2/netflix-prize-data/movie_titles.csv', 'r') as f:\n",
    "    txtfile = f.read()\n",
    "\n",
    "subs = re.compile(r'\\d+,\\d+,')\n",
    "new_lines = []\n",
    "for i in txtfile.split('\\n'):\n",
    "    sub_part = subs.sub('', i)\n",
    "    if 'NULL' not in sub_part:\n",
    "        if ',' not in sub_part:\n",
    "            new_lines.append(i)\n",
    "        else:\n",
    "            left_part = i.replace(sub_part, '')\n",
    "            right_part = sub_part\n",
    "            new_lines.append(left_part + '\"' + right_part + '\"')\n",
    "        \n",
    "movie_info = '\\n'.join(new_lines)\n",
    "movie_table = pd.read_csv(StringIO(movie_info), names = ['MovieID', 'Year', 'Name'])\n",
    "\n",
    "movie_table.MovieID = movie_table.MovieID.astype(int)\n",
    "movie_table.Year = movie_table.Year.astype(int)"
   ]
  },
  {
   "cell_type": "code",
   "execution_count": 541,
   "metadata": {},
   "outputs": [],
   "source": [
    "movie_table_filtered = movie_table[movie_table.MovieID.isin(popular_movies.values)]"
   ]
  },
  {
   "cell_type": "code",
   "execution_count": 542,
   "metadata": {},
   "outputs": [],
   "source": [
    "movie_table_filtered = movie_table_filtered.set_index('MovieID')"
   ]
  },
  {
   "cell_type": "code",
   "execution_count": 543,
   "metadata": {},
   "outputs": [],
   "source": [
    "features = df.CustomerID.unique().shape[0] + movie_table_filtered.Year.unique().shape[0] + movie_table_filtered.shape[0]"
   ]
  },
  {
   "cell_type": "code",
   "execution_count": 544,
   "metadata": {},
   "outputs": [
    {
     "name": "stdout",
     "output_type": "stream",
     "text": [
      "Число фичей 2238\n"
     ]
    }
   ],
   "source": [
    "print('Число фичей', features)"
   ]
  },
  {
   "cell_type": "code",
   "execution_count": 545,
   "metadata": {},
   "outputs": [
    {
     "name": "stdout",
     "output_type": "stream",
     "text": [
      "Число параметров в модели 8953\n"
     ]
    }
   ],
   "source": [
    "k = 3\n",
    "print('Число параметров в модели', 1 + features + k*features)"
   ]
  },
  {
   "cell_type": "markdown",
   "metadata": {},
   "source": [
    "### Формируем датасет для обучения"
   ]
  },
  {
   "cell_type": "code",
   "execution_count": 546,
   "metadata": {},
   "outputs": [],
   "source": [
    "max_movies = popular_movies.shape[0]\n",
    "max_users = active_users.shape[0]\n",
    "max_years = movie_table_filtered.Year.unique().shape[0]"
   ]
  },
  {
   "cell_type": "code",
   "execution_count": 547,
   "metadata": {},
   "outputs": [],
   "source": [
    "#encode year\n",
    "years_mapping = dict(zip(movie_table_filtered.Year.unique(), range(movie_table_filtered.Year.unique().shape[0])))\n",
    "users_mapping = dict(zip(active_users, range(active_users.shape[0])))\n",
    "movies_mapping = dict(zip(popular_movies, range(popular_movies.shape[0])))"
   ]
  },
  {
   "cell_type": "code",
   "execution_count": 548,
   "metadata": {},
   "outputs": [
    {
     "name": "stdout",
     "output_type": "stream",
     "text": [
      "0.03\n",
      "0.05\n",
      "0.08\n",
      "0.11\n",
      "0.14\n",
      "0.16\n",
      "0.19\n",
      "0.22\n",
      "0.24\n",
      "0.27\n",
      "0.30\n",
      "0.33\n",
      "0.35\n",
      "0.38\n",
      "0.41\n",
      "0.43\n",
      "0.46\n",
      "0.49\n",
      "0.52\n",
      "0.54\n",
      "0.57\n",
      "0.60\n",
      "0.62\n",
      "0.65\n",
      "0.68\n",
      "0.71\n",
      "0.73\n",
      "0.76\n",
      "0.79\n",
      "0.81\n",
      "0.84\n",
      "0.87\n",
      "0.90\n",
      "0.92\n",
      "0.95\n",
      "0.98\n"
     ]
    }
   ],
   "source": [
    "X = []\n",
    "y = []\n",
    "count = 1\n",
    "for _, i in df.iterrows():\n",
    "    if count % 20000 == 0:\n",
    "        print('%.2f' % (count / df.shape[0]))\n",
    "        \n",
    "    id_movie = i['MovieID']\n",
    "    id_customer = i['CustomerID']\n",
    "    rating = i['Rating']\n",
    "    year = movie_table_filtered.loc[id_movie].Year\n",
    "    row = np.zeros(features)\n",
    "    \n",
    "    row[movies_mapping[id_movie]] = 1\n",
    "    row[max_movies + users_mapping[id_customer]] = 1\n",
    "    row[max_movies + max_users + years_mapping[year]] = 1\n",
    "    \n",
    "    X.append(row)\n",
    "    y.append(rating)\n",
    "    count += 1"
   ]
  },
  {
   "cell_type": "code",
   "execution_count": 549,
   "metadata": {},
   "outputs": [],
   "source": [
    "X = np.array(X)"
   ]
  },
  {
   "cell_type": "markdown",
   "metadata": {},
   "source": [
    "### сожмем матрицу"
   ]
  },
  {
   "cell_type": "code",
   "execution_count": 550,
   "metadata": {},
   "outputs": [],
   "source": [
    "X_sparse = csr_matrix(X)"
   ]
  },
  {
   "cell_type": "code",
   "execution_count": 551,
   "metadata": {},
   "outputs": [],
   "source": [
    "y = np.array(y).reshape(-1, 1)"
   ]
  },
  {
   "cell_type": "code",
   "execution_count": 552,
   "metadata": {},
   "outputs": [
    {
     "data": {
      "text/plain": [
       "['./Task2/processed/y.bin']"
      ]
     },
     "execution_count": 552,
     "metadata": {},
     "output_type": "execute_result"
    }
   ],
   "source": [
    "os.makedirs('./Task2/processed/', exist_ok=True)\n",
    "joblib.dump(X_sparse, './Task2/processed/X.bin')\n",
    "joblib.dump(y, './Task2/processed/y.bin')"
   ]
  },
  {
   "cell_type": "markdown",
   "metadata": {},
   "source": [
    "### попытка обучить модель"
   ]
  },
  {
   "cell_type": "code",
   "execution_count": 510,
   "metadata": {},
   "outputs": [],
   "source": [
    "y = joblib.load('./Task2/processed/y.bin')\n",
    "X = joblib.load('./Task2/processed/X.bin')"
   ]
  },
  {
   "cell_type": "code",
   "execution_count": 553,
   "metadata": {},
   "outputs": [],
   "source": [
    "y = np.array(y).squeeze()"
   ]
  },
  {
   "cell_type": "code",
   "execution_count": 512,
   "metadata": {},
   "outputs": [],
   "source": [
    "X = np.array(X.todense())"
   ]
  },
  {
   "cell_type": "code",
   "execution_count": 554,
   "metadata": {},
   "outputs": [],
   "source": [
    "X, y = shuffle(X, y)"
   ]
  },
  {
   "cell_type": "code",
   "execution_count": 559,
   "metadata": {},
   "outputs": [
    {
     "name": "stdout",
     "output_type": "stream",
     "text": [
      "1-th fold\n",
      "2-th fold\n",
      "3-th fold\n",
      "4-th fold\n"
     ]
    }
   ],
   "source": [
    "rmse_train = []\n",
    "rmse_test = []\n",
    "r2_train = []\n",
    "r2_test = []\n",
    "r2_adj_train = []\n",
    "r2_adj_test = []\n",
    "features = []\n",
    "features_names = []\n",
    "\n",
    "kfold = KFold(n_splits=4)\n",
    "\n",
    "count = 1\n",
    "for ix_train, ix_test in kfold.split(X):\n",
    "    print('{}-th fold'.format(count))\n",
    "    mdl = SGD2WAYFactorizationMachine(epochs=X.shape[0], batch_size=16, k=2, step=.001, step_V=0.00001)\n",
    "    \n",
    "    X_train = X[ix_train]\n",
    "    y_train = y[ix_train]\n",
    "    \n",
    "    X_test = X[ix_test]\n",
    "    y_test = y[ix_test]\n",
    "    \n",
    "    mdl.fit(X_train, y_train)\n",
    "    \n",
    "    rmse_test.append(RMSE_score(mdl.predict(X_test), y_test))\n",
    "    r2_test.append(R2_score(mdl.predict(X_test), y_test))\n",
    "    r2_adj_test.append(R2_adj_score(mdl.predict(X_test), y_test, X.shape[1]))\n",
    "    \n",
    "    rmse_train.append(RMSE_score(mdl.predict(X_train), y_train))\n",
    "    r2_train.append(R2_score(mdl.predict(X_train), y_train))\n",
    "    r2_adj_train.append(R2_adj_score(mdl.predict(X_train), y_train, X.shape[1]))\n",
    "    \n",
    "    count += 1"
   ]
  },
  {
   "cell_type": "code",
   "execution_count": 561,
   "metadata": {},
   "outputs": [
    {
     "data": {
      "text/html": [
       "<div>\n",
       "<style scoped>\n",
       "    .dataframe tbody tr th:only-of-type {\n",
       "        vertical-align: middle;\n",
       "    }\n",
       "\n",
       "    .dataframe tbody tr th {\n",
       "        vertical-align: top;\n",
       "    }\n",
       "\n",
       "    .dataframe thead th {\n",
       "        text-align: right;\n",
       "    }\n",
       "</style>\n",
       "<table border=\"1\" class=\"dataframe\">\n",
       "  <thead>\n",
       "    <tr style=\"text-align: right;\">\n",
       "      <th></th>\n",
       "      <th>0</th>\n",
       "      <th>1</th>\n",
       "      <th>2</th>\n",
       "      <th>3</th>\n",
       "      <th>mean</th>\n",
       "      <th>std</th>\n",
       "    </tr>\n",
       "  </thead>\n",
       "  <tbody>\n",
       "    <tr>\n",
       "      <th>r2_test</th>\n",
       "      <td>0.263924</td>\n",
       "      <td>0.261126</td>\n",
       "      <td>0.261670</td>\n",
       "      <td>0.261086</td>\n",
       "      <td>0.261952</td>\n",
       "      <td>0.001342</td>\n",
       "    </tr>\n",
       "    <tr>\n",
       "      <th>r2_train</th>\n",
       "      <td>0.264426</td>\n",
       "      <td>0.266635</td>\n",
       "      <td>0.266667</td>\n",
       "      <td>0.267367</td>\n",
       "      <td>0.266274</td>\n",
       "      <td>0.001277</td>\n",
       "    </tr>\n",
       "    <tr>\n",
       "      <th>r2_adj_test</th>\n",
       "      <td>0.254866</td>\n",
       "      <td>0.252033</td>\n",
       "      <td>0.252584</td>\n",
       "      <td>0.251992</td>\n",
       "      <td>0.252869</td>\n",
       "      <td>0.001358</td>\n",
       "    </tr>\n",
       "    <tr>\n",
       "      <th>r2_adj_train</th>\n",
       "      <td>0.261433</td>\n",
       "      <td>0.263651</td>\n",
       "      <td>0.263683</td>\n",
       "      <td>0.264386</td>\n",
       "      <td>0.263288</td>\n",
       "      <td>0.001282</td>\n",
       "    </tr>\n",
       "    <tr>\n",
       "      <th>rmse_test</th>\n",
       "      <td>0.951213</td>\n",
       "      <td>0.954473</td>\n",
       "      <td>0.951858</td>\n",
       "      <td>0.952045</td>\n",
       "      <td>0.952397</td>\n",
       "      <td>0.001429</td>\n",
       "    </tr>\n",
       "    <tr>\n",
       "      <th>rmse_train</th>\n",
       "      <td>0.950771</td>\n",
       "      <td>0.948861</td>\n",
       "      <td>0.949592</td>\n",
       "      <td>0.949201</td>\n",
       "      <td>0.949606</td>\n",
       "      <td>0.000832</td>\n",
       "    </tr>\n",
       "  </tbody>\n",
       "</table>\n",
       "</div>"
      ],
      "text/plain": [
       "                     0         1         2         3      mean       std\n",
       "r2_test       0.263924  0.261126  0.261670  0.261086  0.261952  0.001342\n",
       "r2_train      0.264426  0.266635  0.266667  0.267367  0.266274  0.001277\n",
       "r2_adj_test   0.254866  0.252033  0.252584  0.251992  0.252869  0.001358\n",
       "r2_adj_train  0.261433  0.263651  0.263683  0.264386  0.263288  0.001282\n",
       "rmse_test     0.951213  0.954473  0.951858  0.952045  0.952397  0.001429\n",
       "rmse_train    0.950771  0.948861  0.949592  0.949201  0.949606  0.000832"
      ]
     },
     "execution_count": 561,
     "metadata": {},
     "output_type": "execute_result"
    }
   ],
   "source": [
    "df = pd.DataFrame(np.vstack([r2_test, r2_train, r2_adj_test, r2_adj_train, rmse_test, rmse_train]), index=[\n",
    "    'r2_test',\n",
    "    'r2_train',\n",
    "    'r2_adj_test',\n",
    "    'r2_adj_train',\n",
    "    'rmse_test',\n",
    "    'rmse_train',\n",
    "])\n",
    "\n",
    "df = pd.concat([df, df.mean(axis=1).rename('mean'), df.std(axis=1).rename('std')], axis=1)\n",
    "\n",
    "df"
   ]
  },
  {
   "cell_type": "code",
   "execution_count": null,
   "metadata": {},
   "outputs": [],
   "source": []
  }
 ],
 "metadata": {
  "kernelspec": {
   "display_name": "Python 3",
   "language": "python",
   "name": "python3"
  },
  "language_info": {
   "codemirror_mode": {
    "name": "ipython",
    "version": 3
   },
   "file_extension": ".py",
   "mimetype": "text/x-python",
   "name": "python",
   "nbconvert_exporter": "python",
   "pygments_lexer": "ipython3",
   "version": "3.6.3"
  }
 },
 "nbformat": 4,
 "nbformat_minor": 2
}
